{
 "cells": [
  {
   "cell_type": "code",
   "execution_count": 112,
   "id": "d8679de1-b77c-444e-9371-a9aa3000ae52",
   "metadata": {},
   "outputs": [],
   "source": [
    "from tqdm import tqdm\n",
    "from typing import List, Optional, Tuple\n",
    "import warnings\n",
    "warnings.filterwarnings(action='ignore')\n",
    "\n",
    "import pandas as pd\n",
    "import numpy as np\n",
    "\n",
    "import seaborn as sns\n",
    "import matplotlib.pyplot as plt\n",
    "import matplotlib.cm as cm\n",
    "from matplotlib.patches import Patch\n",
    "\n",
    "from sklearn.impute import KNNImputer\n",
    "from sklearn.pipeline import Pipeline\n",
    "from sklearn.preprocessing import StandardScaler, QuantileTransformer, PowerTransformer\n",
    "\n",
    "from pathai.api.slides import slides_metadata, slides, annotations\n",
    "from pathai.api.monocle import slides_metadata as monocle_slides_metadata\n",
    "\n",
    "import sys\n",
    "sys.path.insert(0, '..')\n",
    "import utils"
   ]
  },
  {
   "cell_type": "code",
   "execution_count": 113,
   "id": "39ec11a7-9d81-4b87-902b-7b9e074c6156",
   "metadata": {},
   "outputs": [],
   "source": [
    "%matplotlib inline\n",
    "plt.rcParams.update({'font.size': 12})"
   ]
  },
  {
   "cell_type": "markdown",
   "id": "cac45266-d090-4b47-a150-3247b5d74b4a",
   "metadata": {},
   "source": [
    "## Load data"
   ]
  },
  {
   "cell_type": "markdown",
   "id": "9d72b0f3-3ff4-4ff4-a951-1fe3c73e1830",
   "metadata": {},
   "source": [
    "### HIFs"
   ]
  },
  {
   "cell_type": "markdown",
   "id": "fa7595b7-0742-451d-a87b-e21e9c8a3afc",
   "metadata": {},
   "source": [
    "Get data for all indications"
   ]
  },
  {
   "cell_type": "code",
   "execution_count": 114,
   "id": "4361912c-77ed-4b3d-b758-cf82878a5a57",
   "metadata": {},
   "outputs": [],
   "source": [
    "# initialize dictionary \n",
    "tme_hifs_dict = {}\n",
    "tme_hifs_dict_transformed = {}\n",
    "\n",
    "# non-HIF column names \n",
    "info_col_names = ['median_score', 'model_prediction', 'Class', 'train_set', 'val_set', 'test_set']"
   ]
  },
  {
   "cell_type": "code",
   "execution_count": 115,
   "id": "6c81d58c-6b28-44ed-b3da-0be44842e497",
   "metadata": {},
   "outputs": [
    {
     "name": "stdout",
     "output_type": "stream",
     "text": [
      "BRCA:  (995, 54)\n",
      "BLCA:  (455, 54)\n",
      "LUAD:  (527, 54)\n",
      "LUSC:  (453, 54)\n",
      "Gastric:  (417, 54)\n",
      "PRAD:  (814, 54)\n"
     ]
    }
   ],
   "source": [
    "imputer = KNNImputer()\n",
    "\n",
    "for indication in ['BRCA', 'BLCA', 'LUAD', 'LUSC', 'Gastric', 'PRAD']:\n",
    "    \n",
    "    tme_hifs_dict[indication] = pd.read_csv(f'data/{indication}_HIFs.csv').set_index('H & E_ID')\n",
    "        \n",
    "    # retain simple HIFs only \n",
    "    tme_hifs_dict[indication] = tme_hifs_dict[indication][tme_hifs_dict[indication].columns[~tme_hifs_dict[indication].columns.str.contains(r'(SELECTED BY|DENSITY RATIO)')]]\n",
    "    # impute missing data \n",
    "    df_temp = tme_hifs_dict[indication].loc[:, ~tme_hifs_dict[indication].columns.isin(info_col_names)]\n",
    "    tme_hifs_dict_transformed[indication] = pd.DataFrame(imputer.fit_transform(df_temp), \n",
    "                                                        index=df_temp.index, columns=df_temp.columns)\n",
    "    \n",
    "    #print(f'{indication}: ', tme_hifs_dict[indication].shape)\n",
    "    print(f'{indication}: ', tme_hifs_dict_transformed[indication].shape)"
   ]
  },
  {
   "cell_type": "code",
   "execution_count": 116,
   "id": "67b1f33d-5883-4376-a0c9-bd4faef3b612",
   "metadata": {},
   "outputs": [
    {
     "name": "stdout",
     "output_type": "stream",
     "text": [
      "BRCA\n",
      "train_set  val_set  test_set\n",
      "True       False    False       596\n",
      "False      False    True        214\n",
      "           True     False       185\n",
      "dtype: int64\n",
      "BLCA\n",
      "train_set  val_set  test_set\n",
      "True       False    False       277\n",
      "False      True     False        93\n",
      "           False    True         85\n",
      "dtype: int64\n",
      "LUAD\n",
      "train_set  val_set  test_set\n",
      "True       False    False       316\n",
      "False      False    True        107\n",
      "           True     False       104\n",
      "dtype: int64\n",
      "LUSC\n",
      "train_set  val_set  test_set\n",
      "True       False    False       269\n",
      "False      True     False        93\n",
      "           False    True         91\n",
      "dtype: int64\n",
      "Gastric\n",
      "train_set  val_set  test_set\n",
      "True       False    False       249\n",
      "False      True     False        87\n",
      "           False    True         81\n",
      "dtype: int64\n",
      "PRAD\n",
      "train_set  val_set  test_set\n",
      "True       False    False       591\n",
      "False      False    True        118\n",
      "           True     False       105\n",
      "dtype: int64\n"
     ]
    }
   ],
   "source": [
    "for indication in ['BRCA', 'BLCA', 'LUAD', 'LUSC', 'Gastric', 'PRAD']:\n",
    "    print(indication)\n",
    "    print(tme_hifs_dict[indication].filter(regex='set').value_counts())"
   ]
  },
  {
   "cell_type": "markdown",
   "id": "7d981e36-dc6a-46f7-b23f-f61cae0fd255",
   "metadata": {},
   "source": [
    "\n",
    "\n",
    "\n",
    "Combine them to one data frame"
   ]
  },
  {
   "cell_type": "code",
   "execution_count": 117,
   "id": "e529aaf0-2a32-4770-b19c-d0626a36e542",
   "metadata": {},
   "outputs": [
    {
     "data": {
      "text/plain": [
       "(3661, 55)"
      ]
     },
     "execution_count": 117,
     "metadata": {},
     "output_type": "execute_result"
    }
   ],
   "source": [
    "# untransformed \n",
    "df_tme_hifs = pd.concat(tme_hifs_dict).reset_index(level=0).rename(columns={'level_0': 'indication'})\n",
    "\n",
    "# transformed version \n",
    "df_tme_hifs_transformed = pd.concat(tme_hifs_dict_transformed)\n",
    "df_tme_hifs_transformed = df_tme_hifs_transformed.reset_index(level=0).rename(columns={'level_0': 'indication'})\n",
    "df_tme_hifs_transformed.shape"
   ]
  },
  {
   "cell_type": "markdown",
   "id": "ad81c85b-507d-4ad9-af83-108628e040d2",
   "metadata": {},
   "source": [
    "Save non-HIF columns"
   ]
  },
  {
   "cell_type": "code",
   "execution_count": 118,
   "id": "9050fd3c-1730-46f5-85e6-9b57e7b9fe4f",
   "metadata": {},
   "outputs": [],
   "source": [
    "indication = df_tme_hifs_transformed.pop('indication')\n",
    "info_col = pd.concat([tme_hifs_dict[indication][info_col_names[1:]] for indication in tme_hifs_dict.keys()])"
   ]
  },
  {
   "cell_type": "code",
   "execution_count": 119,
   "id": "6d4549ed-9389-4418-a6fb-03c090b8f812",
   "metadata": {},
   "outputs": [],
   "source": [
    "info_col['model_prediction_str'] = info_col['model_prediction'].replace({0: 'TGFb-CAF low', 1: 'TGFb-CAF high'})\n",
    "info_col['Class_str'] = info_col['Class'].replace({0: 'TGFb-CAF low', 1: 'TGFb-CAF high'})"
   ]
  },
  {
   "cell_type": "markdown",
   "id": "aea28c57-6019-44f0-8c1e-447abb08ac96",
   "metadata": {},
   "source": [
    "Sanity check"
   ]
  },
  {
   "cell_type": "code",
   "execution_count": 120,
   "id": "b19ba523-0f8a-45d3-826f-df8365ca1399",
   "metadata": {},
   "outputs": [
    {
     "data": {
      "text/plain": [
       "(True, True)"
      ]
     },
     "execution_count": 120,
     "metadata": {},
     "output_type": "execute_result"
    }
   ],
   "source": [
    "np.all(info_col.index == df_tme_hifs_transformed.index), np.all(indication.index == df_tme_hifs_transformed.index)"
   ]
  },
  {
   "cell_type": "code",
   "execution_count": 121,
   "id": "dcbf57bd-cb8c-4891-8df6-50e2c99436e4",
   "metadata": {},
   "outputs": [
    {
     "data": {
      "text/html": [
       "<div>\n",
       "<style scoped>\n",
       "    .dataframe tbody tr th:only-of-type {\n",
       "        vertical-align: middle;\n",
       "    }\n",
       "\n",
       "    .dataframe tbody tr th {\n",
       "        vertical-align: top;\n",
       "    }\n",
       "\n",
       "    .dataframe thead th {\n",
       "        text-align: right;\n",
       "    }\n",
       "</style>\n",
       "<table border=\"1\" class=\"dataframe\">\n",
       "  <thead>\n",
       "    <tr style=\"text-align: right;\">\n",
       "      <th></th>\n",
       "      <th>AREA PROP [[CANCER STROMA] OVER [HARMONIZED TISSUE]]_H &amp; E</th>\n",
       "      <th>AREA PROP [[CANCER STROMA] OVER [HARMONIZED TUMOR]]_H &amp; E</th>\n",
       "      <th>AREA PROP [[CANCER] OVER [HARMONIZED TISSUE]]_H &amp; E</th>\n",
       "      <th>AREA PROP [[CANCER] OVER [HARMONIZED TUMOR]]_H &amp; E</th>\n",
       "      <th>AREA PROP [[HARMONIZED TUMOR] OVER [HARMONIZED TISSUE]]_H &amp; E</th>\n",
       "      <th>AREA PROP [[NECROSIS] OVER [HARMONIZED TISSUE]]_H &amp; E</th>\n",
       "      <th>COUNT PROP [[CANCER CELLS] OVER [HARMONIZED ALL PREDICTED CELLS]] IN [CANCER STROMA]_H &amp; E</th>\n",
       "      <th>COUNT PROP [[CANCER CELLS] OVER [HARMONIZED ALL PREDICTED CELLS]] IN [CANCER]_H &amp; E</th>\n",
       "      <th>COUNT PROP [[CANCER CELLS] OVER [HARMONIZED ALL PREDICTED CELLS]] IN [HARMONIZED TUMOR]_H &amp; E</th>\n",
       "      <th>COUNT PROP [[FIBROBLAST CELLS] OVER [HARMONIZED ALL PREDICTED CELLS]] IN [CANCER STROMA]_H &amp; E</th>\n",
       "      <th>...</th>\n",
       "      <th>DENSITY [HARMONIZED IMMUNE CELLS] IN [HARMONIZED TUMOR]_H &amp; E</th>\n",
       "      <th>DENSITY [LYMPHOCYTE CELLS] IN [CANCER STROMA]_H &amp; E</th>\n",
       "      <th>DENSITY [LYMPHOCYTE CELLS] IN [CANCER]_H &amp; E</th>\n",
       "      <th>DENSITY [LYMPHOCYTE CELLS] IN [HARMONIZED TUMOR]_H &amp; E</th>\n",
       "      <th>DENSITY [MACROPHAGE CELLS] IN [CANCER STROMA]_H &amp; E</th>\n",
       "      <th>DENSITY [MACROPHAGE CELLS] IN [CANCER]_H &amp; E</th>\n",
       "      <th>DENSITY [MACROPHAGE CELLS] IN [HARMONIZED TUMOR]_H &amp; E</th>\n",
       "      <th>DENSITY [PLASMA CELLS] IN [CANCER STROMA]_H &amp; E</th>\n",
       "      <th>DENSITY [PLASMA CELLS] IN [CANCER]_H &amp; E</th>\n",
       "      <th>DENSITY [PLASMA CELLS] IN [HARMONIZED TUMOR]_H &amp; E</th>\n",
       "    </tr>\n",
       "    <tr>\n",
       "      <th>H &amp; E_ID</th>\n",
       "      <th></th>\n",
       "      <th></th>\n",
       "      <th></th>\n",
       "      <th></th>\n",
       "      <th></th>\n",
       "      <th></th>\n",
       "      <th></th>\n",
       "      <th></th>\n",
       "      <th></th>\n",
       "      <th></th>\n",
       "      <th></th>\n",
       "      <th></th>\n",
       "      <th></th>\n",
       "      <th></th>\n",
       "      <th></th>\n",
       "      <th></th>\n",
       "      <th></th>\n",
       "      <th></th>\n",
       "      <th></th>\n",
       "      <th></th>\n",
       "      <th></th>\n",
       "    </tr>\n",
       "  </thead>\n",
       "  <tbody>\n",
       "    <tr>\n",
       "      <th>86700</th>\n",
       "      <td>0.800859</td>\n",
       "      <td>0.802878</td>\n",
       "      <td>0.196626</td>\n",
       "      <td>0.197122</td>\n",
       "      <td>0.997485</td>\n",
       "      <td>0.002515</td>\n",
       "      <td>0.045318</td>\n",
       "      <td>0.724847</td>\n",
       "      <td>0.240829</td>\n",
       "      <td>0.760644</td>\n",
       "      <td>...</td>\n",
       "      <td>491.423279</td>\n",
       "      <td>487.813934</td>\n",
       "      <td>210.962128</td>\n",
       "      <td>433.240417</td>\n",
       "      <td>21.732784</td>\n",
       "      <td>31.459265</td>\n",
       "      <td>23.650087</td>\n",
       "      <td>37.104755</td>\n",
       "      <td>24.057085</td>\n",
       "      <td>34.532776</td>\n",
       "    </tr>\n",
       "    <tr>\n",
       "      <th>89379</th>\n",
       "      <td>0.875544</td>\n",
       "      <td>0.882393</td>\n",
       "      <td>0.116694</td>\n",
       "      <td>0.117607</td>\n",
       "      <td>0.992238</td>\n",
       "      <td>0.007762</td>\n",
       "      <td>0.071914</td>\n",
       "      <td>0.772293</td>\n",
       "      <td>0.243344</td>\n",
       "      <td>0.725531</td>\n",
       "      <td>...</td>\n",
       "      <td>450.820343</td>\n",
       "      <td>438.725739</td>\n",
       "      <td>327.138367</td>\n",
       "      <td>425.602356</td>\n",
       "      <td>15.681863</td>\n",
       "      <td>13.745310</td>\n",
       "      <td>15.454111</td>\n",
       "      <td>10.405722</td>\n",
       "      <td>4.948312</td>\n",
       "      <td>9.763894</td>\n",
       "    </tr>\n",
       "    <tr>\n",
       "      <th>88153</th>\n",
       "      <td>0.741584</td>\n",
       "      <td>0.743192</td>\n",
       "      <td>0.256253</td>\n",
       "      <td>0.256808</td>\n",
       "      <td>0.997837</td>\n",
       "      <td>0.002163</td>\n",
       "      <td>0.082246</td>\n",
       "      <td>0.840145</td>\n",
       "      <td>0.321559</td>\n",
       "      <td>0.659998</td>\n",
       "      <td>...</td>\n",
       "      <td>574.756836</td>\n",
       "      <td>641.445923</td>\n",
       "      <td>120.069122</td>\n",
       "      <td>507.552094</td>\n",
       "      <td>60.197166</td>\n",
       "      <td>4.310824</td>\n",
       "      <td>45.845097</td>\n",
       "      <td>27.031771</td>\n",
       "      <td>4.944768</td>\n",
       "      <td>21.359648</td>\n",
       "    </tr>\n",
       "    <tr>\n",
       "      <th>86087</th>\n",
       "      <td>0.668844</td>\n",
       "      <td>0.676058</td>\n",
       "      <td>0.320485</td>\n",
       "      <td>0.323942</td>\n",
       "      <td>0.989329</td>\n",
       "      <td>0.010671</td>\n",
       "      <td>0.215040</td>\n",
       "      <td>0.884295</td>\n",
       "      <td>0.538512</td>\n",
       "      <td>0.619216</td>\n",
       "      <td>...</td>\n",
       "      <td>447.032990</td>\n",
       "      <td>501.375702</td>\n",
       "      <td>237.859558</td>\n",
       "      <td>416.011749</td>\n",
       "      <td>27.046837</td>\n",
       "      <td>3.791150</td>\n",
       "      <td>19.513344</td>\n",
       "      <td>13.590699</td>\n",
       "      <td>7.161061</td>\n",
       "      <td>11.507870</td>\n",
       "    </tr>\n",
       "    <tr>\n",
       "      <th>88159</th>\n",
       "      <td>0.571635</td>\n",
       "      <td>0.572977</td>\n",
       "      <td>0.426024</td>\n",
       "      <td>0.427024</td>\n",
       "      <td>0.997659</td>\n",
       "      <td>0.002341</td>\n",
       "      <td>0.116163</td>\n",
       "      <td>0.845143</td>\n",
       "      <td>0.574226</td>\n",
       "      <td>0.692987</td>\n",
       "      <td>...</td>\n",
       "      <td>412.228516</td>\n",
       "      <td>497.739746</td>\n",
       "      <td>246.185837</td>\n",
       "      <td>390.320312</td>\n",
       "      <td>12.145480</td>\n",
       "      <td>4.979548</td>\n",
       "      <td>9.085459</td>\n",
       "      <td>17.149868</td>\n",
       "      <td>7.016636</td>\n",
       "      <td>12.822740</td>\n",
       "    </tr>\n",
       "    <tr>\n",
       "      <th>...</th>\n",
       "      <td>...</td>\n",
       "      <td>...</td>\n",
       "      <td>...</td>\n",
       "      <td>...</td>\n",
       "      <td>...</td>\n",
       "      <td>...</td>\n",
       "      <td>...</td>\n",
       "      <td>...</td>\n",
       "      <td>...</td>\n",
       "      <td>...</td>\n",
       "      <td>...</td>\n",
       "      <td>...</td>\n",
       "      <td>...</td>\n",
       "      <td>...</td>\n",
       "      <td>...</td>\n",
       "      <td>...</td>\n",
       "      <td>...</td>\n",
       "      <td>...</td>\n",
       "      <td>...</td>\n",
       "      <td>...</td>\n",
       "      <td>...</td>\n",
       "    </tr>\n",
       "    <tr>\n",
       "      <th>91723</th>\n",
       "      <td>0.537493</td>\n",
       "      <td>0.538395</td>\n",
       "      <td>0.460831</td>\n",
       "      <td>0.461605</td>\n",
       "      <td>0.998325</td>\n",
       "      <td>0.001675</td>\n",
       "      <td>0.101019</td>\n",
       "      <td>0.869869</td>\n",
       "      <td>0.561407</td>\n",
       "      <td>0.763533</td>\n",
       "      <td>...</td>\n",
       "      <td>245.864868</td>\n",
       "      <td>287.179382</td>\n",
       "      <td>100.211479</td>\n",
       "      <td>200.874130</td>\n",
       "      <td>37.662868</td>\n",
       "      <td>17.845881</td>\n",
       "      <td>28.515255</td>\n",
       "      <td>27.070187</td>\n",
       "      <td>4.118280</td>\n",
       "      <td>16.475481</td>\n",
       "    </tr>\n",
       "    <tr>\n",
       "      <th>91747</th>\n",
       "      <td>0.314927</td>\n",
       "      <td>0.315768</td>\n",
       "      <td>0.682410</td>\n",
       "      <td>0.684232</td>\n",
       "      <td>0.997337</td>\n",
       "      <td>0.002663</td>\n",
       "      <td>0.144936</td>\n",
       "      <td>0.895285</td>\n",
       "      <td>0.695714</td>\n",
       "      <td>0.557764</td>\n",
       "      <td>...</td>\n",
       "      <td>686.275330</td>\n",
       "      <td>1505.495117</td>\n",
       "      <td>246.375793</td>\n",
       "      <td>643.965332</td>\n",
       "      <td>67.771736</td>\n",
       "      <td>6.448690</td>\n",
       "      <td>25.812542</td>\n",
       "      <td>48.907436</td>\n",
       "      <td>1.540520</td>\n",
       "      <td>16.497475</td>\n",
       "    </tr>\n",
       "    <tr>\n",
       "      <th>91775</th>\n",
       "      <td>0.447703</td>\n",
       "      <td>0.448559</td>\n",
       "      <td>0.550388</td>\n",
       "      <td>0.551441</td>\n",
       "      <td>0.998091</td>\n",
       "      <td>0.001909</td>\n",
       "      <td>0.183219</td>\n",
       "      <td>0.927135</td>\n",
       "      <td>0.685435</td>\n",
       "      <td>0.720714</td>\n",
       "      <td>...</td>\n",
       "      <td>203.763123</td>\n",
       "      <td>289.274597</td>\n",
       "      <td>86.584129</td>\n",
       "      <td>177.502823</td>\n",
       "      <td>21.132072</td>\n",
       "      <td>8.785743</td>\n",
       "      <td>14.323804</td>\n",
       "      <td>25.280220</td>\n",
       "      <td>1.082302</td>\n",
       "      <td>11.936503</td>\n",
       "    </tr>\n",
       "    <tr>\n",
       "      <th>91783</th>\n",
       "      <td>0.469616</td>\n",
       "      <td>0.469993</td>\n",
       "      <td>0.529581</td>\n",
       "      <td>0.530007</td>\n",
       "      <td>0.999198</td>\n",
       "      <td>0.000802</td>\n",
       "      <td>0.197973</td>\n",
       "      <td>0.920434</td>\n",
       "      <td>0.695399</td>\n",
       "      <td>0.663387</td>\n",
       "      <td>...</td>\n",
       "      <td>264.292969</td>\n",
       "      <td>367.243164</td>\n",
       "      <td>137.459503</td>\n",
       "      <td>245.456314</td>\n",
       "      <td>19.237720</td>\n",
       "      <td>3.171301</td>\n",
       "      <td>10.722413</td>\n",
       "      <td>16.648027</td>\n",
       "      <td>0.546776</td>\n",
       "      <td>8.114258</td>\n",
       "    </tr>\n",
       "    <tr>\n",
       "      <th>91795</th>\n",
       "      <td>0.212042</td>\n",
       "      <td>0.212347</td>\n",
       "      <td>0.786522</td>\n",
       "      <td>0.787653</td>\n",
       "      <td>0.998564</td>\n",
       "      <td>0.001436</td>\n",
       "      <td>0.294477</td>\n",
       "      <td>0.935776</td>\n",
       "      <td>0.848326</td>\n",
       "      <td>0.620446</td>\n",
       "      <td>...</td>\n",
       "      <td>195.001450</td>\n",
       "      <td>366.528320</td>\n",
       "      <td>132.307190</td>\n",
       "      <td>182.043274</td>\n",
       "      <td>29.996874</td>\n",
       "      <td>5.622708</td>\n",
       "      <td>10.798482</td>\n",
       "      <td>9.011936</td>\n",
       "      <td>0.312373</td>\n",
       "      <td>2.159697</td>\n",
       "    </tr>\n",
       "  </tbody>\n",
       "</table>\n",
       "<p>3661 rows × 54 columns</p>\n",
       "</div>"
      ],
      "text/plain": [
       "          AREA PROP [[CANCER STROMA] OVER [HARMONIZED TISSUE]]_H & E  \\\n",
       "H & E_ID                                                               \n",
       "86700                                              0.800859            \n",
       "89379                                              0.875544            \n",
       "88153                                              0.741584            \n",
       "86087                                              0.668844            \n",
       "88159                                              0.571635            \n",
       "...                                                     ...            \n",
       "91723                                              0.537493            \n",
       "91747                                              0.314927            \n",
       "91775                                              0.447703            \n",
       "91783                                              0.469616            \n",
       "91795                                              0.212042            \n",
       "\n",
       "          AREA PROP [[CANCER STROMA] OVER [HARMONIZED TUMOR]]_H & E  \\\n",
       "H & E_ID                                                              \n",
       "86700                                              0.802878           \n",
       "89379                                              0.882393           \n",
       "88153                                              0.743192           \n",
       "86087                                              0.676058           \n",
       "88159                                              0.572977           \n",
       "...                                                     ...           \n",
       "91723                                              0.538395           \n",
       "91747                                              0.315768           \n",
       "91775                                              0.448559           \n",
       "91783                                              0.469993           \n",
       "91795                                              0.212347           \n",
       "\n",
       "          AREA PROP [[CANCER] OVER [HARMONIZED TISSUE]]_H & E  \\\n",
       "H & E_ID                                                        \n",
       "86700                                              0.196626     \n",
       "89379                                              0.116694     \n",
       "88153                                              0.256253     \n",
       "86087                                              0.320485     \n",
       "88159                                              0.426024     \n",
       "...                                                     ...     \n",
       "91723                                              0.460831     \n",
       "91747                                              0.682410     \n",
       "91775                                              0.550388     \n",
       "91783                                              0.529581     \n",
       "91795                                              0.786522     \n",
       "\n",
       "          AREA PROP [[CANCER] OVER [HARMONIZED TUMOR]]_H & E  \\\n",
       "H & E_ID                                                       \n",
       "86700                                              0.197122    \n",
       "89379                                              0.117607    \n",
       "88153                                              0.256808    \n",
       "86087                                              0.323942    \n",
       "88159                                              0.427024    \n",
       "...                                                     ...    \n",
       "91723                                              0.461605    \n",
       "91747                                              0.684232    \n",
       "91775                                              0.551441    \n",
       "91783                                              0.530007    \n",
       "91795                                              0.787653    \n",
       "\n",
       "          AREA PROP [[HARMONIZED TUMOR] OVER [HARMONIZED TISSUE]]_H & E  \\\n",
       "H & E_ID                                                                  \n",
       "86700                                              0.997485               \n",
       "89379                                              0.992238               \n",
       "88153                                              0.997837               \n",
       "86087                                              0.989329               \n",
       "88159                                              0.997659               \n",
       "...                                                     ...               \n",
       "91723                                              0.998325               \n",
       "91747                                              0.997337               \n",
       "91775                                              0.998091               \n",
       "91783                                              0.999198               \n",
       "91795                                              0.998564               \n",
       "\n",
       "          AREA PROP [[NECROSIS] OVER [HARMONIZED TISSUE]]_H & E  \\\n",
       "H & E_ID                                                          \n",
       "86700                                              0.002515       \n",
       "89379                                              0.007762       \n",
       "88153                                              0.002163       \n",
       "86087                                              0.010671       \n",
       "88159                                              0.002341       \n",
       "...                                                     ...       \n",
       "91723                                              0.001675       \n",
       "91747                                              0.002663       \n",
       "91775                                              0.001909       \n",
       "91783                                              0.000802       \n",
       "91795                                              0.001436       \n",
       "\n",
       "          COUNT PROP [[CANCER CELLS] OVER [HARMONIZED ALL PREDICTED CELLS]] IN [CANCER STROMA]_H & E  \\\n",
       "H & E_ID                                                                                               \n",
       "86700                                              0.045318                                            \n",
       "89379                                              0.071914                                            \n",
       "88153                                              0.082246                                            \n",
       "86087                                              0.215040                                            \n",
       "88159                                              0.116163                                            \n",
       "...                                                     ...                                            \n",
       "91723                                              0.101019                                            \n",
       "91747                                              0.144936                                            \n",
       "91775                                              0.183219                                            \n",
       "91783                                              0.197973                                            \n",
       "91795                                              0.294477                                            \n",
       "\n",
       "          COUNT PROP [[CANCER CELLS] OVER [HARMONIZED ALL PREDICTED CELLS]] IN [CANCER]_H & E  \\\n",
       "H & E_ID                                                                                        \n",
       "86700                                              0.724847                                     \n",
       "89379                                              0.772293                                     \n",
       "88153                                              0.840145                                     \n",
       "86087                                              0.884295                                     \n",
       "88159                                              0.845143                                     \n",
       "...                                                     ...                                     \n",
       "91723                                              0.869869                                     \n",
       "91747                                              0.895285                                     \n",
       "91775                                              0.927135                                     \n",
       "91783                                              0.920434                                     \n",
       "91795                                              0.935776                                     \n",
       "\n",
       "          COUNT PROP [[CANCER CELLS] OVER [HARMONIZED ALL PREDICTED CELLS]] IN [HARMONIZED TUMOR]_H & E  \\\n",
       "H & E_ID                                                                                                  \n",
       "86700                                              0.240829                                               \n",
       "89379                                              0.243344                                               \n",
       "88153                                              0.321559                                               \n",
       "86087                                              0.538512                                               \n",
       "88159                                              0.574226                                               \n",
       "...                                                     ...                                               \n",
       "91723                                              0.561407                                               \n",
       "91747                                              0.695714                                               \n",
       "91775                                              0.685435                                               \n",
       "91783                                              0.695399                                               \n",
       "91795                                              0.848326                                               \n",
       "\n",
       "          COUNT PROP [[FIBROBLAST CELLS] OVER [HARMONIZED ALL PREDICTED CELLS]] IN [CANCER STROMA]_H & E  \\\n",
       "H & E_ID                                                                                                   \n",
       "86700                                              0.760644                                                \n",
       "89379                                              0.725531                                                \n",
       "88153                                              0.659998                                                \n",
       "86087                                              0.619216                                                \n",
       "88159                                              0.692987                                                \n",
       "...                                                     ...                                                \n",
       "91723                                              0.763533                                                \n",
       "91747                                              0.557764                                                \n",
       "91775                                              0.720714                                                \n",
       "91783                                              0.663387                                                \n",
       "91795                                              0.620446                                                \n",
       "\n",
       "          ...  DENSITY [HARMONIZED IMMUNE CELLS] IN [HARMONIZED TUMOR]_H & E  \\\n",
       "H & E_ID  ...                                                                  \n",
       "86700     ...                                         491.423279               \n",
       "89379     ...                                         450.820343               \n",
       "88153     ...                                         574.756836               \n",
       "86087     ...                                         447.032990               \n",
       "88159     ...                                         412.228516               \n",
       "...       ...                                                ...               \n",
       "91723     ...                                         245.864868               \n",
       "91747     ...                                         686.275330               \n",
       "91775     ...                                         203.763123               \n",
       "91783     ...                                         264.292969               \n",
       "91795     ...                                         195.001450               \n",
       "\n",
       "          DENSITY [LYMPHOCYTE CELLS] IN [CANCER STROMA]_H & E  \\\n",
       "H & E_ID                                                        \n",
       "86700                                            487.813934     \n",
       "89379                                            438.725739     \n",
       "88153                                            641.445923     \n",
       "86087                                            501.375702     \n",
       "88159                                            497.739746     \n",
       "...                                                     ...     \n",
       "91723                                            287.179382     \n",
       "91747                                           1505.495117     \n",
       "91775                                            289.274597     \n",
       "91783                                            367.243164     \n",
       "91795                                            366.528320     \n",
       "\n",
       "          DENSITY [LYMPHOCYTE CELLS] IN [CANCER]_H & E  \\\n",
       "H & E_ID                                                 \n",
       "86700                                       210.962128   \n",
       "89379                                       327.138367   \n",
       "88153                                       120.069122   \n",
       "86087                                       237.859558   \n",
       "88159                                       246.185837   \n",
       "...                                                ...   \n",
       "91723                                       100.211479   \n",
       "91747                                       246.375793   \n",
       "91775                                        86.584129   \n",
       "91783                                       137.459503   \n",
       "91795                                       132.307190   \n",
       "\n",
       "          DENSITY [LYMPHOCYTE CELLS] IN [HARMONIZED TUMOR]_H & E  \\\n",
       "H & E_ID                                                           \n",
       "86700                                            433.240417        \n",
       "89379                                            425.602356        \n",
       "88153                                            507.552094        \n",
       "86087                                            416.011749        \n",
       "88159                                            390.320312        \n",
       "...                                                     ...        \n",
       "91723                                            200.874130        \n",
       "91747                                            643.965332        \n",
       "91775                                            177.502823        \n",
       "91783                                            245.456314        \n",
       "91795                                            182.043274        \n",
       "\n",
       "          DENSITY [MACROPHAGE CELLS] IN [CANCER STROMA]_H & E  \\\n",
       "H & E_ID                                                        \n",
       "86700                                             21.732784     \n",
       "89379                                             15.681863     \n",
       "88153                                             60.197166     \n",
       "86087                                             27.046837     \n",
       "88159                                             12.145480     \n",
       "...                                                     ...     \n",
       "91723                                             37.662868     \n",
       "91747                                             67.771736     \n",
       "91775                                             21.132072     \n",
       "91783                                             19.237720     \n",
       "91795                                             29.996874     \n",
       "\n",
       "          DENSITY [MACROPHAGE CELLS] IN [CANCER]_H & E  \\\n",
       "H & E_ID                                                 \n",
       "86700                                        31.459265   \n",
       "89379                                        13.745310   \n",
       "88153                                         4.310824   \n",
       "86087                                         3.791150   \n",
       "88159                                         4.979548   \n",
       "...                                                ...   \n",
       "91723                                        17.845881   \n",
       "91747                                         6.448690   \n",
       "91775                                         8.785743   \n",
       "91783                                         3.171301   \n",
       "91795                                         5.622708   \n",
       "\n",
       "          DENSITY [MACROPHAGE CELLS] IN [HARMONIZED TUMOR]_H & E  \\\n",
       "H & E_ID                                                           \n",
       "86700                                             23.650087        \n",
       "89379                                             15.454111        \n",
       "88153                                             45.845097        \n",
       "86087                                             19.513344        \n",
       "88159                                              9.085459        \n",
       "...                                                     ...        \n",
       "91723                                             28.515255        \n",
       "91747                                             25.812542        \n",
       "91775                                             14.323804        \n",
       "91783                                             10.722413        \n",
       "91795                                             10.798482        \n",
       "\n",
       "          DENSITY [PLASMA CELLS] IN [CANCER STROMA]_H & E  \\\n",
       "H & E_ID                                                    \n",
       "86700                                           37.104755   \n",
       "89379                                           10.405722   \n",
       "88153                                           27.031771   \n",
       "86087                                           13.590699   \n",
       "88159                                           17.149868   \n",
       "...                                                   ...   \n",
       "91723                                           27.070187   \n",
       "91747                                           48.907436   \n",
       "91775                                           25.280220   \n",
       "91783                                           16.648027   \n",
       "91795                                            9.011936   \n",
       "\n",
       "          DENSITY [PLASMA CELLS] IN [CANCER]_H & E  \\\n",
       "H & E_ID                                             \n",
       "86700                                    24.057085   \n",
       "89379                                     4.948312   \n",
       "88153                                     4.944768   \n",
       "86087                                     7.161061   \n",
       "88159                                     7.016636   \n",
       "...                                            ...   \n",
       "91723                                     4.118280   \n",
       "91747                                     1.540520   \n",
       "91775                                     1.082302   \n",
       "91783                                     0.546776   \n",
       "91795                                     0.312373   \n",
       "\n",
       "          DENSITY [PLASMA CELLS] IN [HARMONIZED TUMOR]_H & E  \n",
       "H & E_ID                                                      \n",
       "86700                                             34.532776   \n",
       "89379                                              9.763894   \n",
       "88153                                             21.359648   \n",
       "86087                                             11.507870   \n",
       "88159                                             12.822740   \n",
       "...                                                     ...   \n",
       "91723                                             16.475481   \n",
       "91747                                             16.497475   \n",
       "91775                                             11.936503   \n",
       "91783                                              8.114258   \n",
       "91795                                              2.159697   \n",
       "\n",
       "[3661 rows x 54 columns]"
      ]
     },
     "execution_count": 121,
     "metadata": {},
     "output_type": "execute_result"
    }
   ],
   "source": [
    "df_tme_hifs_transformed"
   ]
  },
  {
   "cell_type": "markdown",
   "id": "c5ab2d32-7f30-45f4-ab44-f4e49d987c34",
   "metadata": {},
   "source": [
    "### Metadata"
   ]
  },
  {
   "cell_type": "code",
   "execution_count": 122,
   "id": "ebcb3dff-a84c-4341-a03d-b5af3fa69132",
   "metadata": {},
   "outputs": [],
   "source": [
    "# metadata_dict = monocle_slides_metadata.get_slide_metadata_by_slide_ids(list(df_tme_hifs_transformed.index))\n",
    "# metadata_df = pd.DataFrame()\n",
    "# for element in tqdm(metadata_dict):\n",
    "#     b = {key: value for key, value in element['metadata'].items()}\n",
    "#     b.update({'slideId': element['slideId']})\n",
    "#     metadata_df = pd.concat([metadata_df, pd.DataFrame.from_dict(b, orient='index').T], axis=0)\n",
    "# metadata_df.to_csv('untracked/metadata.csv')"
   ]
  },
  {
   "cell_type": "code",
   "execution_count": 123,
   "id": "6e2cc23d-9be8-4f8b-ba43-e7b0491e07f3",
   "metadata": {},
   "outputs": [],
   "source": [
    "metadata_df = pd.read_csv('data/metadata.csv')"
   ]
  },
  {
   "cell_type": "code",
   "execution_count": 124,
   "id": "20a8578d-30fd-46a5-ab09-ff3a7930e7fa",
   "metadata": {},
   "outputs": [
    {
     "data": {
      "text/plain": [
       "(3661, 325)"
      ]
     },
     "execution_count": 124,
     "metadata": {},
     "output_type": "execute_result"
    }
   ],
   "source": [
    "metadata_df.shape"
   ]
  },
  {
   "cell_type": "code",
   "execution_count": 125,
   "id": "f9ccff2c-a292-4261-9d90-2bfcd380a4a2",
   "metadata": {},
   "outputs": [
    {
     "data": {
      "text/plain": [
       "(3661, 324)"
      ]
     },
     "execution_count": 125,
     "metadata": {},
     "output_type": "execute_result"
    }
   ],
   "source": [
    "metadata_df = metadata_df.set_index('slideId')\n",
    "metadata_df = metadata_df.loc[df_tme_hifs_transformed.index, :]\n",
    "metadata_df.shape"
   ]
  },
  {
   "cell_type": "code",
   "execution_count": 126,
   "id": "bd2abe17-0252-4bd6-a664-f869fbbc8b8a",
   "metadata": {},
   "outputs": [
    {
     "data": {
      "text/plain": [
       "True"
      ]
     },
     "execution_count": 126,
     "metadata": {},
     "output_type": "execute_result"
    }
   ],
   "source": [
    "np.all(metadata_df.index == df_tme_hifs_transformed.index)"
   ]
  },
  {
   "cell_type": "code",
   "execution_count": 127,
   "id": "1fa7e9c3-c033-434d-8417-0e42f2555a63",
   "metadata": {},
   "outputs": [
    {
     "data": {
      "text/plain": [
       "True"
      ]
     },
     "execution_count": 127,
     "metadata": {},
     "output_type": "execute_result"
    }
   ],
   "source": [
    "metadata_df['indication'] = indication\n",
    "np.all(metadata_df.index == indication.index)"
   ]
  },
  {
   "cell_type": "markdown",
   "id": "f09b196d-5824-4e51-a25c-512845402ed7",
   "metadata": {},
   "source": [
    "Variables of potential interest in metadata: age, sex, OS, treatment, subtype, stage, relevant mutation, etc"
   ]
  },
  {
   "cell_type": "markdown",
   "id": "d7d85144-c073-4300-8fa6-f2f8418b4129",
   "metadata": {},
   "source": [
    "#### Indication"
   ]
  },
  {
   "cell_type": "code",
   "execution_count": 128,
   "id": "f6d4bd36-9b6f-492d-a370-12b3765ddd21",
   "metadata": {},
   "outputs": [
    {
     "data": {
      "text/plain": [
       "indication  type\n",
       "BRCA        BRCA    995\n",
       "PRAD        PRAD    814\n",
       "LUAD        LUAD    527\n",
       "BLCA        BLCA    455\n",
       "LUSC        LUSC    453\n",
       "Gastric     STAD    353\n",
       "            ESCA     64\n",
       "dtype: int64"
      ]
     },
     "execution_count": 128,
     "metadata": {},
     "output_type": "execute_result"
    }
   ],
   "source": [
    "metadata_df[['indication', 'type']].value_counts()"
   ]
  },
  {
   "cell_type": "markdown",
   "id": "715895b8-937d-43d2-9ecd-09566d481b73",
   "metadata": {},
   "source": [
    "#### Tumor stage"
   ]
  },
  {
   "cell_type": "code",
   "execution_count": 129,
   "id": "fbc77379-5d2b-49c0-b125-8afaea8edcca",
   "metadata": {},
   "outputs": [
    {
     "data": {
      "text/plain": [
       "Index(['clinical_stage', 'ajcc_pathologic_tumor_stage',\n",
       "       'american_joint_committee_on_cancer_tumor_stage_code',\n",
       "       'neoplasm_disease_lymph_node_stage_american_joint_committee_on_cancer_code',\n",
       "       'neoplasm_american_joint_committee_on_cancer_clinical_primary_tumor_t_stage',\n",
       "       'neoplasm_american_joint_committee_on_cancer_clinical_distant_metastasis_m_stage',\n",
       "       'tnm_stage', 'disease_stage'],\n",
       "      dtype='object')"
      ]
     },
     "execution_count": 129,
     "metadata": {},
     "output_type": "execute_result"
    }
   ],
   "source": [
    "metadata_df.filter(regex='stage').columns"
   ]
  },
  {
   "cell_type": "code",
   "execution_count": 130,
   "id": "2c391ee5-521b-49da-b55f-70615ad5b7ba",
   "metadata": {},
   "outputs": [
    {
     "data": {
      "text/plain": [
       "Stage IIIA         77\n",
       "Stage IIB          64\n",
       "Stage IIIB         61\n",
       "Stage IIA          40\n",
       "Stage IIIC         38\n",
       "Stage IB           33\n",
       "Stage II           24\n",
       "Stage IV           24\n",
       "Stage IA           12\n",
       "[Not Available]    12\n",
       "[Discrepancy]      10\n",
       "Stage III           9\n",
       "Stage I             8\n",
       "[Unknown]           3\n",
       "Stage IVA           2\n",
       "Name: ajcc_pathologic_tumor_stage, dtype: int64"
      ]
     },
     "execution_count": 130,
     "metadata": {},
     "output_type": "execute_result"
    }
   ],
   "source": [
    "metadata_df.loc[metadata_df.indication == 'Gastric']['ajcc_pathologic_tumor_stage'].value_counts()"
   ]
  },
  {
   "cell_type": "code",
   "execution_count": 131,
   "id": "5e91254e-abe1-4cfb-908a-d1a92d9a4595",
   "metadata": {},
   "outputs": [
    {
     "data": {
      "text/plain": [
       "[Not Applicable]    814\n",
       "Stage IIA           484\n",
       "Stage IIB           438\n",
       "Stage IIIA          373\n",
       "Stage IB            310\n",
       "Stage IA            303\n",
       "Stage IV            221\n",
       "Stage II            187\n",
       "Stage III           161\n",
       "Stage IIIB          111\n",
       "Stage I              98\n",
       "Stage IIIC           97\n",
       "[Discrepancy]        28\n",
       "[Not Available]      20\n",
       "Stage X              11\n",
       "[Unknown]             3\n",
       "Stage IVA             2\n",
       "Name: ajcc_pathologic_tumor_stage, dtype: int64"
      ]
     },
     "execution_count": 131,
     "metadata": {},
     "output_type": "execute_result"
    }
   ],
   "source": [
    "metadata_df['ajcc_pathologic_tumor_stage'].value_counts()"
   ]
  },
  {
   "cell_type": "code",
   "execution_count": 132,
   "id": "4597068e-72d8-401a-be78-e28a872da3ba",
   "metadata": {},
   "outputs": [],
   "source": [
    "metadata_df['ajcc_pathologic_tumor_stage_consolidated'] = metadata_df['ajcc_pathologic_tumor_stage'].replace({'Stage IA': 'Stage I',\n",
    "                                                                                                           'Stage IB': 'Stage I',\n",
    "                                                                                                           'Stage IIA': 'Stage II',\n",
    "                                                                                                           'Stage IIB': 'Stage II',\n",
    "                                                                                                           'Stage IIIA': 'Stage III',\n",
    "                                                                                                           'Stage IIIB': 'Stage III',\n",
    "                                                                                                           'Stage IIIC': 'Stage III',\n",
    "                                                                                                           'Stage IVA': 'Stage IV',\n",
    "                                                                                                            'Stage X': 'Other',\n",
    "                                                                                                           '[Discrepancy]': 'Other',\n",
    "                                                                                                           '[Not Available]': 'Other',\n",
    "                                                                                                           '[Unknown]': 'Other',\n",
    "                                                                                                           '[Not Applicable]': 'Other'})"
   ]
  },
  {
   "cell_type": "code",
   "execution_count": 133,
   "id": "fbc79d39-9e26-4916-8bd4-6013ee1aa858",
   "metadata": {},
   "outputs": [],
   "source": [
    "df_tumor_stage = metadata_df.groupby(['indication','ajcc_pathologic_tumor_stage_consolidated']).size().to_frame(name='no. samples')\n",
    "df_tumor_stage['percent'] = round(df_tumor_stage['no. samples'] / df_tumor_stage.groupby(['indication'])['no. samples'].transform('sum') * 100, 1)"
   ]
  },
  {
   "cell_type": "code",
   "execution_count": 134,
   "id": "8e60d3e2-e390-4441-825d-c1c0b4ef07d7",
   "metadata": {},
   "outputs": [
    {
     "data": {
      "text/html": [
       "<div>\n",
       "<style scoped>\n",
       "    .dataframe tbody tr th:only-of-type {\n",
       "        vertical-align: middle;\n",
       "    }\n",
       "\n",
       "    .dataframe tbody tr th {\n",
       "        vertical-align: top;\n",
       "    }\n",
       "\n",
       "    .dataframe thead th {\n",
       "        text-align: right;\n",
       "    }\n",
       "</style>\n",
       "<table border=\"1\" class=\"dataframe\">\n",
       "  <thead>\n",
       "    <tr style=\"text-align: right;\">\n",
       "      <th></th>\n",
       "      <th></th>\n",
       "      <th>no. samples</th>\n",
       "      <th>percent</th>\n",
       "    </tr>\n",
       "    <tr>\n",
       "      <th>indication</th>\n",
       "      <th>ajcc_pathologic_tumor_stage_consolidated</th>\n",
       "      <th></th>\n",
       "      <th></th>\n",
       "    </tr>\n",
       "  </thead>\n",
       "  <tbody>\n",
       "    <tr>\n",
       "      <th rowspan=\"5\" valign=\"top\">BLCA</th>\n",
       "      <th>Other</th>\n",
       "      <td>2</td>\n",
       "      <td>0.4</td>\n",
       "    </tr>\n",
       "    <tr>\n",
       "      <th>Stage I</th>\n",
       "      <td>3</td>\n",
       "      <td>0.7</td>\n",
       "    </tr>\n",
       "    <tr>\n",
       "      <th>Stage II</th>\n",
       "      <td>155</td>\n",
       "      <td>34.1</td>\n",
       "    </tr>\n",
       "    <tr>\n",
       "      <th>Stage III</th>\n",
       "      <td>148</td>\n",
       "      <td>32.5</td>\n",
       "    </tr>\n",
       "    <tr>\n",
       "      <th>Stage IV</th>\n",
       "      <td>147</td>\n",
       "      <td>32.3</td>\n",
       "    </tr>\n",
       "    <tr>\n",
       "      <th rowspan=\"5\" valign=\"top\">BRCA</th>\n",
       "      <th>Other</th>\n",
       "      <td>22</td>\n",
       "      <td>2.2</td>\n",
       "    </tr>\n",
       "    <tr>\n",
       "      <th>Stage I</th>\n",
       "      <td>163</td>\n",
       "      <td>16.4</td>\n",
       "    </tr>\n",
       "    <tr>\n",
       "      <th>Stage II</th>\n",
       "      <td>567</td>\n",
       "      <td>57.0</td>\n",
       "    </tr>\n",
       "    <tr>\n",
       "      <th>Stage III</th>\n",
       "      <td>226</td>\n",
       "      <td>22.7</td>\n",
       "    </tr>\n",
       "    <tr>\n",
       "      <th>Stage IV</th>\n",
       "      <td>17</td>\n",
       "      <td>1.7</td>\n",
       "    </tr>\n",
       "    <tr>\n",
       "      <th rowspan=\"5\" valign=\"top\">Gastric</th>\n",
       "      <th>Other</th>\n",
       "      <td>25</td>\n",
       "      <td>6.0</td>\n",
       "    </tr>\n",
       "    <tr>\n",
       "      <th>Stage I</th>\n",
       "      <td>53</td>\n",
       "      <td>12.7</td>\n",
       "    </tr>\n",
       "    <tr>\n",
       "      <th>Stage II</th>\n",
       "      <td>128</td>\n",
       "      <td>30.7</td>\n",
       "    </tr>\n",
       "    <tr>\n",
       "      <th>Stage III</th>\n",
       "      <td>185</td>\n",
       "      <td>44.4</td>\n",
       "    </tr>\n",
       "    <tr>\n",
       "      <th>Stage IV</th>\n",
       "      <td>26</td>\n",
       "      <td>6.2</td>\n",
       "    </tr>\n",
       "    <tr>\n",
       "      <th rowspan=\"5\" valign=\"top\">LUAD</th>\n",
       "      <th>Other</th>\n",
       "      <td>9</td>\n",
       "      <td>1.7</td>\n",
       "    </tr>\n",
       "    <tr>\n",
       "      <th>Stage I</th>\n",
       "      <td>267</td>\n",
       "      <td>50.7</td>\n",
       "    </tr>\n",
       "    <tr>\n",
       "      <th>Stage II</th>\n",
       "      <td>129</td>\n",
       "      <td>24.5</td>\n",
       "    </tr>\n",
       "    <tr>\n",
       "      <th>Stage III</th>\n",
       "      <td>95</td>\n",
       "      <td>18.0</td>\n",
       "    </tr>\n",
       "    <tr>\n",
       "      <th>Stage IV</th>\n",
       "      <td>27</td>\n",
       "      <td>5.1</td>\n",
       "    </tr>\n",
       "    <tr>\n",
       "      <th rowspan=\"5\" valign=\"top\">LUSC</th>\n",
       "      <th>Other</th>\n",
       "      <td>4</td>\n",
       "      <td>0.9</td>\n",
       "    </tr>\n",
       "    <tr>\n",
       "      <th>Stage I</th>\n",
       "      <td>225</td>\n",
       "      <td>49.7</td>\n",
       "    </tr>\n",
       "    <tr>\n",
       "      <th>Stage II</th>\n",
       "      <td>130</td>\n",
       "      <td>28.7</td>\n",
       "    </tr>\n",
       "    <tr>\n",
       "      <th>Stage III</th>\n",
       "      <td>88</td>\n",
       "      <td>19.4</td>\n",
       "    </tr>\n",
       "    <tr>\n",
       "      <th>Stage IV</th>\n",
       "      <td>6</td>\n",
       "      <td>1.3</td>\n",
       "    </tr>\n",
       "    <tr>\n",
       "      <th>PRAD</th>\n",
       "      <th>Other</th>\n",
       "      <td>814</td>\n",
       "      <td>100.0</td>\n",
       "    </tr>\n",
       "  </tbody>\n",
       "</table>\n",
       "</div>"
      ],
      "text/plain": [
       "                                                     no. samples  percent\n",
       "indication ajcc_pathologic_tumor_stage_consolidated                      \n",
       "BLCA       Other                                               2      0.4\n",
       "           Stage I                                             3      0.7\n",
       "           Stage II                                          155     34.1\n",
       "           Stage III                                         148     32.5\n",
       "           Stage IV                                          147     32.3\n",
       "BRCA       Other                                              22      2.2\n",
       "           Stage I                                           163     16.4\n",
       "           Stage II                                          567     57.0\n",
       "           Stage III                                         226     22.7\n",
       "           Stage IV                                           17      1.7\n",
       "Gastric    Other                                              25      6.0\n",
       "           Stage I                                            53     12.7\n",
       "           Stage II                                          128     30.7\n",
       "           Stage III                                         185     44.4\n",
       "           Stage IV                                           26      6.2\n",
       "LUAD       Other                                               9      1.7\n",
       "           Stage I                                           267     50.7\n",
       "           Stage II                                          129     24.5\n",
       "           Stage III                                          95     18.0\n",
       "           Stage IV                                           27      5.1\n",
       "LUSC       Other                                               4      0.9\n",
       "           Stage I                                           225     49.7\n",
       "           Stage II                                          130     28.7\n",
       "           Stage III                                          88     19.4\n",
       "           Stage IV                                            6      1.3\n",
       "PRAD       Other                                             814    100.0"
      ]
     },
     "execution_count": 134,
     "metadata": {},
     "output_type": "execute_result"
    }
   ],
   "source": [
    "df_tumor_stage"
   ]
  },
  {
   "cell_type": "markdown",
   "id": "369ae5b4-434d-4b7b-aedc-02c232fcc495",
   "metadata": {},
   "source": [
    "#### Sex"
   ]
  },
  {
   "cell_type": "markdown",
   "id": "8369369c-5c10-48b8-9cf4-95bbe7c38bc8",
   "metadata": {},
   "source": [
    "Need to use both `sex` and `gender` columns "
   ]
  },
  {
   "cell_type": "code",
   "execution_count": 135,
   "id": "7a686954-d838-4b6d-930f-de2e36f0a9d7",
   "metadata": {},
   "outputs": [
    {
     "data": {
      "text/plain": [
       "Male      2010\n",
       "NaN       1000\n",
       "Female     651\n",
       "Name: sex, dtype: int64"
      ]
     },
     "execution_count": 135,
     "metadata": {},
     "output_type": "execute_result"
    }
   ],
   "source": [
    "metadata_df.sex.value_counts(dropna=False)"
   ]
  },
  {
   "cell_type": "code",
   "execution_count": 136,
   "id": "3100c501-a5c8-46e0-8247-0c7c133cb26e",
   "metadata": {},
   "outputs": [
    {
     "data": {
      "text/plain": [
       "MALE      1735\n",
       "FEMALE    1509\n",
       "NaN        417\n",
       "Name: gender, dtype: int64"
      ]
     },
     "execution_count": 136,
     "metadata": {},
     "output_type": "execute_result"
    }
   ],
   "source": [
    "metadata_df.gender.value_counts(dropna=False)"
   ]
  },
  {
   "cell_type": "code",
   "execution_count": 137,
   "id": "f75e5eb1-07ec-42ed-8e86-2e525953766c",
   "metadata": {},
   "outputs": [],
   "source": [
    "df_sex = metadata_df.groupby(['indication','sex']).size().to_frame(name='no. samples')\n",
    "df_sex['percent'] = round(df_sex['no. samples'] / df_sex.groupby(['indication'])['no. samples'].transform('sum') * 100, 1)"
   ]
  },
  {
   "cell_type": "code",
   "execution_count": 138,
   "id": "a44aca04-09b6-4c8a-b05b-fe9a1d414233",
   "metadata": {},
   "outputs": [
    {
     "data": {
      "text/html": [
       "<div>\n",
       "<style scoped>\n",
       "    .dataframe tbody tr th:only-of-type {\n",
       "        vertical-align: middle;\n",
       "    }\n",
       "\n",
       "    .dataframe tbody tr th {\n",
       "        vertical-align: top;\n",
       "    }\n",
       "\n",
       "    .dataframe thead th {\n",
       "        text-align: right;\n",
       "    }\n",
       "</style>\n",
       "<table border=\"1\" class=\"dataframe\">\n",
       "  <thead>\n",
       "    <tr style=\"text-align: right;\">\n",
       "      <th></th>\n",
       "      <th></th>\n",
       "      <th>no. samples</th>\n",
       "      <th>percent</th>\n",
       "    </tr>\n",
       "    <tr>\n",
       "      <th>indication</th>\n",
       "      <th>sex</th>\n",
       "      <th></th>\n",
       "      <th></th>\n",
       "    </tr>\n",
       "  </thead>\n",
       "  <tbody>\n",
       "    <tr>\n",
       "      <th rowspan=\"2\" valign=\"top\">BLCA</th>\n",
       "      <th>Female</th>\n",
       "      <td>120</td>\n",
       "      <td>26.4</td>\n",
       "    </tr>\n",
       "    <tr>\n",
       "      <th>Male</th>\n",
       "      <td>335</td>\n",
       "      <td>73.6</td>\n",
       "    </tr>\n",
       "    <tr>\n",
       "      <th rowspan=\"2\" valign=\"top\">Gastric</th>\n",
       "      <th>Female</th>\n",
       "      <td>125</td>\n",
       "      <td>30.0</td>\n",
       "    </tr>\n",
       "    <tr>\n",
       "      <th>Male</th>\n",
       "      <td>292</td>\n",
       "      <td>70.0</td>\n",
       "    </tr>\n",
       "    <tr>\n",
       "      <th rowspan=\"2\" valign=\"top\">LUAD</th>\n",
       "      <th>Female</th>\n",
       "      <td>294</td>\n",
       "      <td>55.8</td>\n",
       "    </tr>\n",
       "    <tr>\n",
       "      <th>Male</th>\n",
       "      <td>233</td>\n",
       "      <td>44.2</td>\n",
       "    </tr>\n",
       "    <tr>\n",
       "      <th rowspan=\"2\" valign=\"top\">LUSC</th>\n",
       "      <th>Female</th>\n",
       "      <td>112</td>\n",
       "      <td>24.7</td>\n",
       "    </tr>\n",
       "    <tr>\n",
       "      <th>Male</th>\n",
       "      <td>341</td>\n",
       "      <td>75.3</td>\n",
       "    </tr>\n",
       "    <tr>\n",
       "      <th>PRAD</th>\n",
       "      <th>Male</th>\n",
       "      <td>809</td>\n",
       "      <td>100.0</td>\n",
       "    </tr>\n",
       "  </tbody>\n",
       "</table>\n",
       "</div>"
      ],
      "text/plain": [
       "                   no. samples  percent\n",
       "indication sex                         \n",
       "BLCA       Female          120     26.4\n",
       "           Male            335     73.6\n",
       "Gastric    Female          125     30.0\n",
       "           Male            292     70.0\n",
       "LUAD       Female          294     55.8\n",
       "           Male            233     44.2\n",
       "LUSC       Female          112     24.7\n",
       "           Male            341     75.3\n",
       "PRAD       Male            809    100.0"
      ]
     },
     "execution_count": 138,
     "metadata": {},
     "output_type": "execute_result"
    }
   ],
   "source": [
    "df_sex"
   ]
  },
  {
   "cell_type": "code",
   "execution_count": 139,
   "id": "86b125b4-6096-474a-8d5a-b9bd30db493f",
   "metadata": {},
   "outputs": [],
   "source": [
    "df_gender = metadata_df.groupby(['indication','gender']).size().to_frame(name='no. samples')\n",
    "df_gender['percent'] = round(df_gender['no. samples'] / df_gender.groupby(['indication'])['no. samples'].transform('sum') * 100, 1)"
   ]
  },
  {
   "cell_type": "code",
   "execution_count": 140,
   "id": "a1f3afb3-f73e-4aad-ae00-24c5d0c7185b",
   "metadata": {},
   "outputs": [
    {
     "data": {
      "text/html": [
       "<div>\n",
       "<style scoped>\n",
       "    .dataframe tbody tr th:only-of-type {\n",
       "        vertical-align: middle;\n",
       "    }\n",
       "\n",
       "    .dataframe tbody tr th {\n",
       "        vertical-align: top;\n",
       "    }\n",
       "\n",
       "    .dataframe thead th {\n",
       "        text-align: right;\n",
       "    }\n",
       "</style>\n",
       "<table border=\"1\" class=\"dataframe\">\n",
       "  <thead>\n",
       "    <tr style=\"text-align: right;\">\n",
       "      <th></th>\n",
       "      <th></th>\n",
       "      <th>no. samples</th>\n",
       "      <th>percent</th>\n",
       "    </tr>\n",
       "    <tr>\n",
       "      <th>indication</th>\n",
       "      <th>gender</th>\n",
       "      <th></th>\n",
       "      <th></th>\n",
       "    </tr>\n",
       "  </thead>\n",
       "  <tbody>\n",
       "    <tr>\n",
       "      <th rowspan=\"2\" valign=\"top\">BLCA</th>\n",
       "      <th>FEMALE</th>\n",
       "      <td>120</td>\n",
       "      <td>26.4</td>\n",
       "    </tr>\n",
       "    <tr>\n",
       "      <th>MALE</th>\n",
       "      <td>335</td>\n",
       "      <td>73.6</td>\n",
       "    </tr>\n",
       "    <tr>\n",
       "      <th rowspan=\"2\" valign=\"top\">BRCA</th>\n",
       "      <th>FEMALE</th>\n",
       "      <td>983</td>\n",
       "      <td>98.8</td>\n",
       "    </tr>\n",
       "    <tr>\n",
       "      <th>MALE</th>\n",
       "      <td>12</td>\n",
       "      <td>1.2</td>\n",
       "    </tr>\n",
       "    <tr>\n",
       "      <th rowspan=\"2\" valign=\"top\">LUAD</th>\n",
       "      <th>FEMALE</th>\n",
       "      <td>294</td>\n",
       "      <td>55.8</td>\n",
       "    </tr>\n",
       "    <tr>\n",
       "      <th>MALE</th>\n",
       "      <td>233</td>\n",
       "      <td>44.2</td>\n",
       "    </tr>\n",
       "    <tr>\n",
       "      <th rowspan=\"2\" valign=\"top\">LUSC</th>\n",
       "      <th>FEMALE</th>\n",
       "      <td>112</td>\n",
       "      <td>24.7</td>\n",
       "    </tr>\n",
       "    <tr>\n",
       "      <th>MALE</th>\n",
       "      <td>341</td>\n",
       "      <td>75.3</td>\n",
       "    </tr>\n",
       "    <tr>\n",
       "      <th>PRAD</th>\n",
       "      <th>MALE</th>\n",
       "      <td>814</td>\n",
       "      <td>100.0</td>\n",
       "    </tr>\n",
       "  </tbody>\n",
       "</table>\n",
       "</div>"
      ],
      "text/plain": [
       "                   no. samples  percent\n",
       "indication gender                      \n",
       "BLCA       FEMALE          120     26.4\n",
       "           MALE            335     73.6\n",
       "BRCA       FEMALE          983     98.8\n",
       "           MALE             12      1.2\n",
       "LUAD       FEMALE          294     55.8\n",
       "           MALE            233     44.2\n",
       "LUSC       FEMALE          112     24.7\n",
       "           MALE            341     75.3\n",
       "PRAD       MALE            814    100.0"
      ]
     },
     "execution_count": 140,
     "metadata": {},
     "output_type": "execute_result"
    }
   ],
   "source": [
    "df_gender"
   ]
  },
  {
   "cell_type": "markdown",
   "id": "7dd18141-48b1-417a-9be3-6dc835ed14e1",
   "metadata": {},
   "source": [
    "#### Overall survival (OS) time"
   ]
  },
  {
   "cell_type": "code",
   "execution_count": 141,
   "id": "14e48843-1331-4895-96e5-45f3876f1686",
   "metadata": {},
   "outputs": [
    {
     "data": {
      "text/plain": [
       "0-523        1214\n",
       "1100-8605    1214\n",
       "524-1099     1213\n",
       "Unknown        20\n",
       "Name: os_time_quantile, dtype: int64"
      ]
     },
     "execution_count": 141,
     "metadata": {},
     "output_type": "execute_result"
    }
   ],
   "source": [
    "metadata_df['os_time_quantile'] = pd.qcut(metadata_df['os_time'], 3, labels=['0-523', '524-1099', '1100-8605'])\n",
    "metadata_df['os_time_quantile'] = metadata_df['os_time_quantile'].cat.add_categories('Unknown')\n",
    "metadata_df['os_time_quantile'].fillna('Unknown', inplace =True) \n",
    "metadata_df['os_time_quantile'].value_counts(dropna=False)"
   ]
  },
  {
   "cell_type": "code",
   "execution_count": 142,
   "id": "68582c4f-24d9-4af5-9fd4-24e0a761b3a1",
   "metadata": {},
   "outputs": [
    {
     "data": {
      "text/html": [
       "<div>\n",
       "<style scoped>\n",
       "    .dataframe tbody tr th:only-of-type {\n",
       "        vertical-align: middle;\n",
       "    }\n",
       "\n",
       "    .dataframe tbody tr th {\n",
       "        vertical-align: top;\n",
       "    }\n",
       "\n",
       "    .dataframe thead th {\n",
       "        text-align: right;\n",
       "    }\n",
       "</style>\n",
       "<table border=\"1\" class=\"dataframe\">\n",
       "  <thead>\n",
       "    <tr style=\"text-align: right;\">\n",
       "      <th></th>\n",
       "      <th>mean</th>\n",
       "      <th>std</th>\n",
       "    </tr>\n",
       "    <tr>\n",
       "      <th>indication</th>\n",
       "      <th></th>\n",
       "      <th></th>\n",
       "    </tr>\n",
       "  </thead>\n",
       "  <tbody>\n",
       "    <tr>\n",
       "      <th>BLCA</th>\n",
       "      <td>819.224670</td>\n",
       "      <td>773.362514</td>\n",
       "    </tr>\n",
       "    <tr>\n",
       "      <th>BRCA</th>\n",
       "      <td>1262.803823</td>\n",
       "      <td>1215.788275</td>\n",
       "    </tr>\n",
       "    <tr>\n",
       "      <th>Gastric</th>\n",
       "      <td>612.845411</td>\n",
       "      <td>532.922338</td>\n",
       "    </tr>\n",
       "    <tr>\n",
       "      <th>LUAD</th>\n",
       "      <td>915.864865</td>\n",
       "      <td>850.454420</td>\n",
       "    </tr>\n",
       "    <tr>\n",
       "      <th>LUSC</th>\n",
       "      <td>1089.615213</td>\n",
       "      <td>1103.384258</td>\n",
       "    </tr>\n",
       "    <tr>\n",
       "      <th>PRAD</th>\n",
       "      <td>1184.740786</td>\n",
       "      <td>754.454968</td>\n",
       "    </tr>\n",
       "  </tbody>\n",
       "</table>\n",
       "</div>"
      ],
      "text/plain": [
       "                   mean          std\n",
       "indication                          \n",
       "BLCA         819.224670   773.362514\n",
       "BRCA        1262.803823  1215.788275\n",
       "Gastric      612.845411   532.922338\n",
       "LUAD         915.864865   850.454420\n",
       "LUSC        1089.615213  1103.384258\n",
       "PRAD        1184.740786   754.454968"
      ]
     },
     "execution_count": 142,
     "metadata": {},
     "output_type": "execute_result"
    }
   ],
   "source": [
    "metadata_df.groupby(['indication'])['os_time'].agg(['mean', 'std'])\n"
   ]
  },
  {
   "cell_type": "code",
   "execution_count": 143,
   "id": "7db9b6c7-b67a-4ed5-9897-08fc4ffc5f02",
   "metadata": {},
   "outputs": [
    {
     "data": {
      "text/html": [
       "<div>\n",
       "<style scoped>\n",
       "    .dataframe tbody tr th:only-of-type {\n",
       "        vertical-align: middle;\n",
       "    }\n",
       "\n",
       "    .dataframe tbody tr th {\n",
       "        vertical-align: top;\n",
       "    }\n",
       "\n",
       "    .dataframe thead th {\n",
       "        text-align: right;\n",
       "    }\n",
       "</style>\n",
       "<table border=\"1\" class=\"dataframe\">\n",
       "  <thead>\n",
       "    <tr style=\"text-align: right;\">\n",
       "      <th></th>\n",
       "      <th>median</th>\n",
       "      <th>std</th>\n",
       "    </tr>\n",
       "    <tr>\n",
       "      <th>indication</th>\n",
       "      <th></th>\n",
       "      <th></th>\n",
       "    </tr>\n",
       "  </thead>\n",
       "  <tbody>\n",
       "    <tr>\n",
       "      <th>BLCA</th>\n",
       "      <td>563.5</td>\n",
       "      <td>773.362514</td>\n",
       "    </tr>\n",
       "    <tr>\n",
       "      <th>BRCA</th>\n",
       "      <td>838.0</td>\n",
       "      <td>1215.788275</td>\n",
       "    </tr>\n",
       "    <tr>\n",
       "      <th>Gastric</th>\n",
       "      <td>488.5</td>\n",
       "      <td>532.922338</td>\n",
       "    </tr>\n",
       "    <tr>\n",
       "      <th>LUAD</th>\n",
       "      <td>692.5</td>\n",
       "      <td>850.454420</td>\n",
       "    </tr>\n",
       "    <tr>\n",
       "      <th>LUSC</th>\n",
       "      <td>699.0</td>\n",
       "      <td>1103.384258</td>\n",
       "    </tr>\n",
       "    <tr>\n",
       "      <th>PRAD</th>\n",
       "      <td>1006.0</td>\n",
       "      <td>754.454968</td>\n",
       "    </tr>\n",
       "  </tbody>\n",
       "</table>\n",
       "</div>"
      ],
      "text/plain": [
       "            median          std\n",
       "indication                     \n",
       "BLCA         563.5   773.362514\n",
       "BRCA         838.0  1215.788275\n",
       "Gastric      488.5   532.922338\n",
       "LUAD         692.5   850.454420\n",
       "LUSC         699.0  1103.384258\n",
       "PRAD        1006.0   754.454968"
      ]
     },
     "execution_count": 143,
     "metadata": {},
     "output_type": "execute_result"
    }
   ],
   "source": [
    "metadata_df.groupby(['indication'])['os_time'].agg([np.median, 'std'])\n"
   ]
  },
  {
   "cell_type": "markdown",
   "id": "4cac432b-7410-4cf7-be10-9e9d5dbaeb3b",
   "metadata": {},
   "source": [
    "#### Indication"
   ]
  },
  {
   "cell_type": "code",
   "execution_count": 144,
   "id": "8abc0074-9104-45eb-9afd-c2c1a936cfcb",
   "metadata": {},
   "outputs": [
    {
     "data": {
      "text/plain": [
       "type  indication\n",
       "BRCA  BRCA          995\n",
       "PRAD  PRAD          814\n",
       "LUAD  LUAD          527\n",
       "BLCA  BLCA          455\n",
       "LUSC  LUSC          453\n",
       "STAD  Gastric       353\n",
       "ESCA  Gastric        64\n",
       "dtype: int64"
      ]
     },
     "execution_count": 144,
     "metadata": {},
     "output_type": "execute_result"
    }
   ],
   "source": [
    "metadata_df[['type', 'indication']].value_counts()"
   ]
  },
  {
   "cell_type": "code",
   "execution_count": 145,
   "id": "a2141902-7146-4a28-a26f-275e109ff987",
   "metadata": {},
   "outputs": [
    {
     "data": {
      "text/plain": [
       "histologic_subtype                       indication\n",
       "Acinar Adenocarcinoma                    PRAD          804\n",
       "Adenocarcinoma                           LUAD          527\n",
       "Squamous Cell Carcinoma                  LUSC          453\n",
       "Urothelial Carcinoma                     BLCA          451\n",
       "Intestinal Gastric Carcinoma             Gastric       255\n",
       "Diffuse Gastric Carcinoma                Gastric        79\n",
       "Adenocarcinoma, NOS                      Gastric        64\n",
       "Intestinal Gastric Carcinoma (Mucinous)  Gastric        18\n",
       "Adenocarcinoma                           PRAD           10\n",
       "Unknown                                  BLCA            4\n",
       "                                         Gastric         1\n",
       "dtype: int64"
      ]
     },
     "execution_count": 145,
     "metadata": {},
     "output_type": "execute_result"
    }
   ],
   "source": [
    "metadata_df[['histologic_subtype', 'indication']].value_counts()"
   ]
  },
  {
   "cell_type": "code",
   "execution_count": 146,
   "id": "7729909e-0af3-46aa-96d8-76227b8bc502",
   "metadata": {},
   "outputs": [
    {
     "data": {
      "text/plain": [
       "disease_name       indication\n",
       "Gastric Carcinoma  Gastric       353\n",
       "dtype: int64"
      ]
     },
     "execution_count": 146,
     "metadata": {},
     "output_type": "execute_result"
    }
   ],
   "source": [
    "metadata_df[['disease_name', 'indication']].value_counts()"
   ]
  },
  {
   "cell_type": "markdown",
   "id": "a8bf54e3-269e-468f-a2be-7d1deeb807db",
   "metadata": {},
   "source": [
    "#### Age at initial diagnosis"
   ]
  },
  {
   "cell_type": "code",
   "execution_count": 147,
   "id": "44cbb54d-8c89-47a0-942b-c27edb6b196f",
   "metadata": {},
   "outputs": [
    {
     "data": {
      "text/plain": [
       "count    3629.000000\n",
       "mean       63.146597\n",
       "std        11.061819\n",
       "min        26.000000\n",
       "25%        56.000000\n",
       "50%        64.000000\n",
       "75%        71.000000\n",
       "max        90.000000\n",
       "Name: age_at_initial_pathologic_diagnosis, dtype: float64"
      ]
     },
     "execution_count": 147,
     "metadata": {},
     "output_type": "execute_result"
    }
   ],
   "source": [
    "pd.to_numeric(metadata_df['age_at_initial_pathologic_diagnosis'], errors='coerce').describe()\n"
   ]
  },
  {
   "cell_type": "code",
   "execution_count": 148,
   "id": "129ed2a9-2a6c-4d73-bd4d-fc329e569bf0",
   "metadata": {},
   "outputs": [
    {
     "data": {
      "text/plain": [
       "(25.999, 59.0]    1294\n",
       "(68.0, 90.0]      1202\n",
       "(59.0, 68.0]      1133\n",
       "Name: age_at_initial_pathologic_diagnosis, dtype: int64"
      ]
     },
     "execution_count": 148,
     "metadata": {},
     "output_type": "execute_result"
    }
   ],
   "source": [
    "pd.qcut(metadata_df['age_at_initial_pathologic_diagnosis'], 3).value_counts()"
   ]
  },
  {
   "cell_type": "code",
   "execution_count": 149,
   "id": "a22f86a5-6283-4ae9-8216-48889f3ea853",
   "metadata": {},
   "outputs": [
    {
     "data": {
      "text/plain": [
       "26-59      1294\n",
       "69-90      1202\n",
       "60-68      1133\n",
       "Unknown      32\n",
       "Name: age_at_initial_pathologic_diagnosis_quantile, dtype: int64"
      ]
     },
     "execution_count": 149,
     "metadata": {},
     "output_type": "execute_result"
    }
   ],
   "source": [
    "metadata_df['age_at_initial_pathologic_diagnosis_quantile'] = pd.qcut(metadata_df['age_at_initial_pathologic_diagnosis'], 3, labels=['26-59', '60-68', '69-90'])\n",
    "metadata_df['age_at_initial_pathologic_diagnosis_quantile'] = metadata_df['age_at_initial_pathologic_diagnosis_quantile'].cat.add_categories('Unknown')\n",
    "metadata_df['age_at_initial_pathologic_diagnosis_quantile'].fillna('Unknown', inplace =True) \n",
    "metadata_df['age_at_initial_pathologic_diagnosis_quantile'].value_counts(dropna=False)"
   ]
  },
  {
   "cell_type": "code",
   "execution_count": 150,
   "id": "963eab1d-35d0-4cba-9744-8b18b75bf4fc",
   "metadata": {},
   "outputs": [
    {
     "data": {
      "text/html": [
       "<div>\n",
       "<style scoped>\n",
       "    .dataframe tbody tr th:only-of-type {\n",
       "        vertical-align: middle;\n",
       "    }\n",
       "\n",
       "    .dataframe tbody tr th {\n",
       "        vertical-align: top;\n",
       "    }\n",
       "\n",
       "    .dataframe thead th {\n",
       "        text-align: right;\n",
       "    }\n",
       "</style>\n",
       "<table border=\"1\" class=\"dataframe\">\n",
       "  <thead>\n",
       "    <tr style=\"text-align: right;\">\n",
       "      <th></th>\n",
       "      <th>mean</th>\n",
       "      <th>std</th>\n",
       "    </tr>\n",
       "    <tr>\n",
       "      <th>indication</th>\n",
       "      <th></th>\n",
       "      <th></th>\n",
       "    </tr>\n",
       "  </thead>\n",
       "  <tbody>\n",
       "    <tr>\n",
       "      <th>BLCA</th>\n",
       "      <td>67.854945</td>\n",
       "      <td>10.633712</td>\n",
       "    </tr>\n",
       "    <tr>\n",
       "      <th>BRCA</th>\n",
       "      <td>58.574447</td>\n",
       "      <td>13.265854</td>\n",
       "    </tr>\n",
       "    <tr>\n",
       "      <th>Gastric</th>\n",
       "      <td>64.709443</td>\n",
       "      <td>10.549368</td>\n",
       "    </tr>\n",
       "    <tr>\n",
       "      <th>LUAD</th>\n",
       "      <td>65.704724</td>\n",
       "      <td>10.238354</td>\n",
       "    </tr>\n",
       "    <tr>\n",
       "      <th>LUSC</th>\n",
       "      <td>67.667416</td>\n",
       "      <td>8.472369</td>\n",
       "    </tr>\n",
       "    <tr>\n",
       "      <th>PRAD</th>\n",
       "      <td>61.237101</td>\n",
       "      <td>6.989646</td>\n",
       "    </tr>\n",
       "  </tbody>\n",
       "</table>\n",
       "</div>"
      ],
      "text/plain": [
       "                 mean        std\n",
       "indication                      \n",
       "BLCA        67.854945  10.633712\n",
       "BRCA        58.574447  13.265854\n",
       "Gastric     64.709443  10.549368\n",
       "LUAD        65.704724  10.238354\n",
       "LUSC        67.667416   8.472369\n",
       "PRAD        61.237101   6.989646"
      ]
     },
     "execution_count": 150,
     "metadata": {},
     "output_type": "execute_result"
    }
   ],
   "source": [
    "metadata_df.groupby(['indication'])['age_at_initial_pathologic_diagnosis'].agg(['mean', 'std'])"
   ]
  },
  {
   "cell_type": "code",
   "execution_count": 151,
   "id": "8888dc25-e2ba-412c-97cb-b7b444600ed2",
   "metadata": {},
   "outputs": [
    {
     "data": {
      "text/html": [
       "<div>\n",
       "<style scoped>\n",
       "    .dataframe tbody tr th:only-of-type {\n",
       "        vertical-align: middle;\n",
       "    }\n",
       "\n",
       "    .dataframe tbody tr th {\n",
       "        vertical-align: top;\n",
       "    }\n",
       "\n",
       "    .dataframe thead th {\n",
       "        text-align: right;\n",
       "    }\n",
       "</style>\n",
       "<table border=\"1\" class=\"dataframe\">\n",
       "  <thead>\n",
       "    <tr style=\"text-align: right;\">\n",
       "      <th></th>\n",
       "      <th>median</th>\n",
       "      <th>std</th>\n",
       "    </tr>\n",
       "    <tr>\n",
       "      <th>indication</th>\n",
       "      <th></th>\n",
       "      <th></th>\n",
       "    </tr>\n",
       "  </thead>\n",
       "  <tbody>\n",
       "    <tr>\n",
       "      <th>BLCA</th>\n",
       "      <td>69.0</td>\n",
       "      <td>10.633712</td>\n",
       "    </tr>\n",
       "    <tr>\n",
       "      <th>BRCA</th>\n",
       "      <td>58.5</td>\n",
       "      <td>13.265854</td>\n",
       "    </tr>\n",
       "    <tr>\n",
       "      <th>Gastric</th>\n",
       "      <td>66.0</td>\n",
       "      <td>10.549368</td>\n",
       "    </tr>\n",
       "    <tr>\n",
       "      <th>LUAD</th>\n",
       "      <td>67.0</td>\n",
       "      <td>10.238354</td>\n",
       "    </tr>\n",
       "    <tr>\n",
       "      <th>LUSC</th>\n",
       "      <td>68.0</td>\n",
       "      <td>8.472369</td>\n",
       "    </tr>\n",
       "    <tr>\n",
       "      <th>PRAD</th>\n",
       "      <td>62.0</td>\n",
       "      <td>6.989646</td>\n",
       "    </tr>\n",
       "  </tbody>\n",
       "</table>\n",
       "</div>"
      ],
      "text/plain": [
       "            median        std\n",
       "indication                   \n",
       "BLCA          69.0  10.633712\n",
       "BRCA          58.5  13.265854\n",
       "Gastric       66.0  10.549368\n",
       "LUAD          67.0  10.238354\n",
       "LUSC          68.0   8.472369\n",
       "PRAD          62.0   6.989646"
      ]
     },
     "execution_count": 151,
     "metadata": {},
     "output_type": "execute_result"
    }
   ],
   "source": [
    "metadata_df.groupby(['indication'])['age_at_initial_pathologic_diagnosis'].agg([np.median, 'std'])"
   ]
  },
  {
   "cell_type": "markdown",
   "id": "44b093a6-f483-4b14-b7cf-3cc763ec3d75",
   "metadata": {},
   "source": [
    "#### OS"
   ]
  },
  {
   "cell_type": "code",
   "execution_count": 152,
   "id": "0aff945a-694c-42a3-9d80-29e3d15e16e4",
   "metadata": {},
   "outputs": [
    {
     "data": {
      "text/plain": [
       "Index(['Unnamed: 0', 'os', 'dfi', 'dss', 'pfi', 'pfs', 'sex', 'case', 'race',\n",
       "       'type',\n",
       "       ...\n",
       "       'histologic_subtype_adenocarcinoma',\n",
       "       'histologic_subtype_squamous_cell_carcinoma', 'case_name',\n",
       "       'disease_name', 'partner_short_name', 'diagnosis_hist_sub_original',\n",
       "       'indication', 'ajcc_pathologic_tumor_stage_consolidated',\n",
       "       'os_time_quantile', 'age_at_initial_pathologic_diagnosis_quantile'],\n",
       "      dtype='object', length=328)"
      ]
     },
     "execution_count": 152,
     "metadata": {},
     "output_type": "execute_result"
    }
   ],
   "source": [
    "metadata_df.columns"
   ]
  },
  {
   "cell_type": "code",
   "execution_count": 153,
   "id": "1730df76-c3d2-408e-92c0-26d37d2d8435",
   "metadata": {},
   "outputs": [],
   "source": [
    "df_os = metadata_df.groupby(['indication', 'os']).size().to_frame(name='no. samples')\n",
    "df_os['percent'] = round(df_os['no. samples'] / df_os.groupby(['indication'])['no. samples'].transform('sum') * 100, 1)"
   ]
  },
  {
   "cell_type": "code",
   "execution_count": 154,
   "id": "80bb7c6f-cece-44bc-a6cd-c9ae8ba8e74a",
   "metadata": {},
   "outputs": [
    {
     "data": {
      "text/html": [
       "<div>\n",
       "<style scoped>\n",
       "    .dataframe tbody tr th:only-of-type {\n",
       "        vertical-align: middle;\n",
       "    }\n",
       "\n",
       "    .dataframe tbody tr th {\n",
       "        vertical-align: top;\n",
       "    }\n",
       "\n",
       "    .dataframe thead th {\n",
       "        text-align: right;\n",
       "    }\n",
       "</style>\n",
       "<table border=\"1\" class=\"dataframe\">\n",
       "  <thead>\n",
       "    <tr style=\"text-align: right;\">\n",
       "      <th></th>\n",
       "      <th></th>\n",
       "      <th>no. samples</th>\n",
       "      <th>percent</th>\n",
       "    </tr>\n",
       "    <tr>\n",
       "      <th>indication</th>\n",
       "      <th>os</th>\n",
       "      <th></th>\n",
       "      <th></th>\n",
       "    </tr>\n",
       "  </thead>\n",
       "  <tbody>\n",
       "    <tr>\n",
       "      <th rowspan=\"2\" valign=\"top\">BLCA</th>\n",
       "      <th>0.0</th>\n",
       "      <td>243</td>\n",
       "      <td>53.4</td>\n",
       "    </tr>\n",
       "    <tr>\n",
       "      <th>1.0</th>\n",
       "      <td>212</td>\n",
       "      <td>46.6</td>\n",
       "    </tr>\n",
       "    <tr>\n",
       "      <th rowspan=\"2\" valign=\"top\">BRCA</th>\n",
       "      <th>0.0</th>\n",
       "      <td>856</td>\n",
       "      <td>86.0</td>\n",
       "    </tr>\n",
       "    <tr>\n",
       "      <th>1.0</th>\n",
       "      <td>139</td>\n",
       "      <td>14.0</td>\n",
       "    </tr>\n",
       "    <tr>\n",
       "      <th rowspan=\"2\" valign=\"top\">Gastric</th>\n",
       "      <th>0.0</th>\n",
       "      <td>246</td>\n",
       "      <td>59.0</td>\n",
       "    </tr>\n",
       "    <tr>\n",
       "      <th>1.0</th>\n",
       "      <td>171</td>\n",
       "      <td>41.0</td>\n",
       "    </tr>\n",
       "    <tr>\n",
       "      <th rowspan=\"2\" valign=\"top\">LUAD</th>\n",
       "      <th>0.0</th>\n",
       "      <td>315</td>\n",
       "      <td>59.8</td>\n",
       "    </tr>\n",
       "    <tr>\n",
       "      <th>1.0</th>\n",
       "      <td>212</td>\n",
       "      <td>40.2</td>\n",
       "    </tr>\n",
       "    <tr>\n",
       "      <th rowspan=\"2\" valign=\"top\">LUSC</th>\n",
       "      <th>0.0</th>\n",
       "      <td>252</td>\n",
       "      <td>55.6</td>\n",
       "    </tr>\n",
       "    <tr>\n",
       "      <th>1.0</th>\n",
       "      <td>201</td>\n",
       "      <td>44.4</td>\n",
       "    </tr>\n",
       "    <tr>\n",
       "      <th rowspan=\"2\" valign=\"top\">PRAD</th>\n",
       "      <th>0.0</th>\n",
       "      <td>787</td>\n",
       "      <td>96.7</td>\n",
       "    </tr>\n",
       "    <tr>\n",
       "      <th>1.0</th>\n",
       "      <td>27</td>\n",
       "      <td>3.3</td>\n",
       "    </tr>\n",
       "  </tbody>\n",
       "</table>\n",
       "</div>"
      ],
      "text/plain": [
       "                no. samples  percent\n",
       "indication os                       \n",
       "BLCA       0.0          243     53.4\n",
       "           1.0          212     46.6\n",
       "BRCA       0.0          856     86.0\n",
       "           1.0          139     14.0\n",
       "Gastric    0.0          246     59.0\n",
       "           1.0          171     41.0\n",
       "LUAD       0.0          315     59.8\n",
       "           1.0          212     40.2\n",
       "LUSC       0.0          252     55.6\n",
       "           1.0          201     44.4\n",
       "PRAD       0.0          787     96.7\n",
       "           1.0           27      3.3"
      ]
     },
     "execution_count": 154,
     "metadata": {},
     "output_type": "execute_result"
    }
   ],
   "source": [
    "df_os"
   ]
  },
  {
   "cell_type": "markdown",
   "id": "c3ce8ac2-354d-4d12-bc76-fcb078879daa",
   "metadata": {
    "tags": []
   },
   "source": [
    "## Data transformation"
   ]
  },
  {
   "cell_type": "markdown",
   "id": "5f03231a-bef4-479b-8e28-798f6da15393",
   "metadata": {},
   "source": [
    "### Quantile transformer"
   ]
  },
  {
   "cell_type": "code",
   "execution_count": 155,
   "id": "586d936a-2d01-4fed-a63d-fc38105b4c89",
   "metadata": {},
   "outputs": [],
   "source": [
    "qt = QuantileTransformer(n_quantiles=100)\n",
    "df_qt = pd.DataFrame(qt.fit_transform(df_tme_hifs_transformed),\n",
    "                     index=df_tme_hifs_transformed.index, columns=df_tme_hifs_transformed.columns)"
   ]
  },
  {
   "cell_type": "markdown",
   "id": "8860af8d-8af7-435a-a653-23b310d6f4df",
   "metadata": {
    "tags": []
   },
   "source": [
    "### Power transformer"
   ]
  },
  {
   "cell_type": "code",
   "execution_count": 156,
   "id": "228c38fe-16d3-4f8e-9092-f98935df84dd",
   "metadata": {},
   "outputs": [],
   "source": [
    "pt = PowerTransformer()\n",
    "df_pt = pd.DataFrame(pt.fit_transform(df_tme_hifs_transformed),\n",
    "                     index=df_tme_hifs_transformed.index, columns=df_tme_hifs_transformed.columns)"
   ]
  },
  {
   "cell_type": "markdown",
   "id": "49b9e085-948a-45b8-ab46-f32da6bcf15d",
   "metadata": {},
   "source": [
    "## Clustering"
   ]
  },
  {
   "cell_type": "code",
   "execution_count": 157,
   "id": "1654dfe3-4f46-4fbc-adff-cc0f02360ca6",
   "metadata": {},
   "outputs": [],
   "source": [
    "spacecadet_cmap = sns.light_palette(\"#2D2849\")"
   ]
  },
  {
   "cell_type": "markdown",
   "id": "2348bb17-3149-43c8-b147-ccb9e625565d",
   "metadata": {},
   "source": [
    "### All TME HIFs"
   ]
  },
  {
   "cell_type": "code",
   "execution_count": 158,
   "id": "aa62b9ae-6a44-42e2-af09-28ff0240a4c6",
   "metadata": {},
   "outputs": [
    {
     "data": {
      "text/plain": [
       "((3661, 54), (3661, 54))"
      ]
     },
     "execution_count": 158,
     "metadata": {},
     "output_type": "execute_result"
    }
   ],
   "source": [
    "df_qt.shape, df_pt.shape"
   ]
  },
  {
   "cell_type": "code",
   "execution_count": 159,
   "id": "fd3d4ee8-74af-4932-8ff7-d0669110dcd5",
   "metadata": {},
   "outputs": [
    {
     "data": {
      "text/html": [
       "<div>\n",
       "<style scoped>\n",
       "    .dataframe tbody tr th:only-of-type {\n",
       "        vertical-align: middle;\n",
       "    }\n",
       "\n",
       "    .dataframe tbody tr th {\n",
       "        vertical-align: top;\n",
       "    }\n",
       "\n",
       "    .dataframe thead th {\n",
       "        text-align: right;\n",
       "    }\n",
       "</style>\n",
       "<table border=\"1\" class=\"dataframe\">\n",
       "  <thead>\n",
       "    <tr style=\"text-align: right;\">\n",
       "      <th></th>\n",
       "      <th>COUNT PROP [[CANCER CELLS] OVER [HARMONIZED ALL PREDICTED CELLS]] IN [CANCER STROMA]_H &amp; E</th>\n",
       "      <th>COUNT PROP [[CANCER CELLS] OVER [HARMONIZED ALL PREDICTED CELLS]] IN [CANCER]_H &amp; E</th>\n",
       "      <th>COUNT PROP [[CANCER CELLS] OVER [HARMONIZED ALL PREDICTED CELLS]] IN [HARMONIZED TUMOR]_H &amp; E</th>\n",
       "      <th>DENSITY [CANCER CELLS] IN [CANCER STROMA]_H &amp; E</th>\n",
       "      <th>DENSITY [CANCER CELLS] IN [CANCER]_H &amp; E</th>\n",
       "      <th>DENSITY [CANCER CELLS] IN [HARMONIZED TUMOR]_H &amp; E</th>\n",
       "    </tr>\n",
       "    <tr>\n",
       "      <th>H &amp; E_ID</th>\n",
       "      <th></th>\n",
       "      <th></th>\n",
       "      <th></th>\n",
       "      <th></th>\n",
       "      <th></th>\n",
       "      <th></th>\n",
       "    </tr>\n",
       "  </thead>\n",
       "  <tbody>\n",
       "    <tr>\n",
       "      <th>86700</th>\n",
       "      <td>0.237795</td>\n",
       "      <td>0.162746</td>\n",
       "      <td>0.175542</td>\n",
       "      <td>0.161647</td>\n",
       "      <td>0.166484</td>\n",
       "      <td>0.121368</td>\n",
       "    </tr>\n",
       "    <tr>\n",
       "      <th>89379</th>\n",
       "      <td>0.355475</td>\n",
       "      <td>0.249867</td>\n",
       "      <td>0.177490</td>\n",
       "      <td>0.203390</td>\n",
       "      <td>0.355209</td>\n",
       "      <td>0.095799</td>\n",
       "    </tr>\n",
       "    <tr>\n",
       "      <th>88153</th>\n",
       "      <td>0.397007</td>\n",
       "      <td>0.449140</td>\n",
       "      <td>0.252800</td>\n",
       "      <td>0.292471</td>\n",
       "      <td>0.137469</td>\n",
       "      <td>0.166430</td>\n",
       "    </tr>\n",
       "    <tr>\n",
       "      <th>86087</th>\n",
       "      <td>0.780285</td>\n",
       "      <td>0.621730</td>\n",
       "      <td>0.508443</td>\n",
       "      <td>0.657822</td>\n",
       "      <td>0.643915</td>\n",
       "      <td>0.438765</td>\n",
       "    </tr>\n",
       "    <tr>\n",
       "      <th>88159</th>\n",
       "      <td>0.524533</td>\n",
       "      <td>0.462967</td>\n",
       "      <td>0.551112</td>\n",
       "      <td>0.385733</td>\n",
       "      <td>0.570842</td>\n",
       "      <td>0.461089</td>\n",
       "    </tr>\n",
       "    <tr>\n",
       "      <th>...</th>\n",
       "      <td>...</td>\n",
       "      <td>...</td>\n",
       "      <td>...</td>\n",
       "      <td>...</td>\n",
       "      <td>...</td>\n",
       "      <td>...</td>\n",
       "    </tr>\n",
       "    <tr>\n",
       "      <th>91723</th>\n",
       "      <td>0.464467</td>\n",
       "      <td>0.563358</td>\n",
       "      <td>0.536996</td>\n",
       "      <td>0.330722</td>\n",
       "      <td>0.277249</td>\n",
       "      <td>0.375432</td>\n",
       "    </tr>\n",
       "    <tr>\n",
       "      <th>91747</th>\n",
       "      <td>0.616144</td>\n",
       "      <td>0.663388</td>\n",
       "      <td>0.708463</td>\n",
       "      <td>0.702244</td>\n",
       "      <td>0.755732</td>\n",
       "      <td>0.805230</td>\n",
       "    </tr>\n",
       "    <tr>\n",
       "      <th>91775</th>\n",
       "      <td>0.713901</td>\n",
       "      <td>0.825031</td>\n",
       "      <td>0.696977</td>\n",
       "      <td>0.621596</td>\n",
       "      <td>0.608385</td>\n",
       "      <td>0.607722</td>\n",
       "    </tr>\n",
       "    <tr>\n",
       "      <th>91783</th>\n",
       "      <td>0.745567</td>\n",
       "      <td>0.792908</td>\n",
       "      <td>0.707924</td>\n",
       "      <td>0.583412</td>\n",
       "      <td>0.558409</td>\n",
       "      <td>0.564772</td>\n",
       "    </tr>\n",
       "    <tr>\n",
       "      <th>91795</th>\n",
       "      <td>0.890312</td>\n",
       "      <td>0.862761</td>\n",
       "      <td>0.887028</td>\n",
       "      <td>0.901660</td>\n",
       "      <td>0.926102</td>\n",
       "      <td>0.946950</td>\n",
       "    </tr>\n",
       "  </tbody>\n",
       "</table>\n",
       "<p>3661 rows × 6 columns</p>\n",
       "</div>"
      ],
      "text/plain": [
       "          COUNT PROP [[CANCER CELLS] OVER [HARMONIZED ALL PREDICTED CELLS]] IN [CANCER STROMA]_H & E  \\\n",
       "H & E_ID                                                                                               \n",
       "86700                                              0.237795                                            \n",
       "89379                                              0.355475                                            \n",
       "88153                                              0.397007                                            \n",
       "86087                                              0.780285                                            \n",
       "88159                                              0.524533                                            \n",
       "...                                                     ...                                            \n",
       "91723                                              0.464467                                            \n",
       "91747                                              0.616144                                            \n",
       "91775                                              0.713901                                            \n",
       "91783                                              0.745567                                            \n",
       "91795                                              0.890312                                            \n",
       "\n",
       "          COUNT PROP [[CANCER CELLS] OVER [HARMONIZED ALL PREDICTED CELLS]] IN [CANCER]_H & E  \\\n",
       "H & E_ID                                                                                        \n",
       "86700                                              0.162746                                     \n",
       "89379                                              0.249867                                     \n",
       "88153                                              0.449140                                     \n",
       "86087                                              0.621730                                     \n",
       "88159                                              0.462967                                     \n",
       "...                                                     ...                                     \n",
       "91723                                              0.563358                                     \n",
       "91747                                              0.663388                                     \n",
       "91775                                              0.825031                                     \n",
       "91783                                              0.792908                                     \n",
       "91795                                              0.862761                                     \n",
       "\n",
       "          COUNT PROP [[CANCER CELLS] OVER [HARMONIZED ALL PREDICTED CELLS]] IN [HARMONIZED TUMOR]_H & E  \\\n",
       "H & E_ID                                                                                                  \n",
       "86700                                              0.175542                                               \n",
       "89379                                              0.177490                                               \n",
       "88153                                              0.252800                                               \n",
       "86087                                              0.508443                                               \n",
       "88159                                              0.551112                                               \n",
       "...                                                     ...                                               \n",
       "91723                                              0.536996                                               \n",
       "91747                                              0.708463                                               \n",
       "91775                                              0.696977                                               \n",
       "91783                                              0.707924                                               \n",
       "91795                                              0.887028                                               \n",
       "\n",
       "          DENSITY [CANCER CELLS] IN [CANCER STROMA]_H & E  \\\n",
       "H & E_ID                                                    \n",
       "86700                                            0.161647   \n",
       "89379                                            0.203390   \n",
       "88153                                            0.292471   \n",
       "86087                                            0.657822   \n",
       "88159                                            0.385733   \n",
       "...                                                   ...   \n",
       "91723                                            0.330722   \n",
       "91747                                            0.702244   \n",
       "91775                                            0.621596   \n",
       "91783                                            0.583412   \n",
       "91795                                            0.901660   \n",
       "\n",
       "          DENSITY [CANCER CELLS] IN [CANCER]_H & E  \\\n",
       "H & E_ID                                             \n",
       "86700                                     0.166484   \n",
       "89379                                     0.355209   \n",
       "88153                                     0.137469   \n",
       "86087                                     0.643915   \n",
       "88159                                     0.570842   \n",
       "...                                            ...   \n",
       "91723                                     0.277249   \n",
       "91747                                     0.755732   \n",
       "91775                                     0.608385   \n",
       "91783                                     0.558409   \n",
       "91795                                     0.926102   \n",
       "\n",
       "          DENSITY [CANCER CELLS] IN [HARMONIZED TUMOR]_H & E  \n",
       "H & E_ID                                                      \n",
       "86700                                              0.121368   \n",
       "89379                                              0.095799   \n",
       "88153                                              0.166430   \n",
       "86087                                              0.438765   \n",
       "88159                                              0.461089   \n",
       "...                                                     ...   \n",
       "91723                                              0.375432   \n",
       "91747                                              0.805230   \n",
       "91775                                              0.607722   \n",
       "91783                                              0.564772   \n",
       "91795                                              0.946950   \n",
       "\n",
       "[3661 rows x 6 columns]"
      ]
     },
     "execution_count": 159,
     "metadata": {},
     "output_type": "execute_result"
    }
   ],
   "source": [
    "df_qt.filter(regex='CANCER.*CELL')"
   ]
  },
  {
   "cell_type": "markdown",
   "id": "d4862c52-0e34-478d-8aaa-0d2383de3ce0",
   "metadata": {},
   "source": [
    "Color dictionary for row and column color bars:"
   ]
  },
  {
   "cell_type": "code",
   "execution_count": 160,
   "id": "df9a4ac6-48be-42fe-854a-9bcefeb892ba",
   "metadata": {},
   "outputs": [
    {
     "data": {
      "text/plain": [
       "LYMPHOCYTE                  9\n",
       "MACROPHAGE                  9\n",
       "PLASMA                      9\n",
       "NA                          6\n",
       "CANCER                      6\n",
       "FIBROBLAST                  6\n",
       "HARMONIZED IMMUNE           6\n",
       "HARMONIZED ALL PREDICTED    3\n",
       "dtype: int64"
      ]
     },
     "execution_count": 160,
     "metadata": {},
     "output_type": "execute_result"
    }
   ],
   "source": [
    "hif_cell_type = df_qt.columns.map(utils.get_cell)\n",
    "hif_cell_type = hif_cell_type.fillna('NA')\n",
    "hif_cell_type.value_counts()"
   ]
  },
  {
   "cell_type": "code",
   "execution_count": 161,
   "id": "90ee4ccf-11c2-48ee-8e58-2a107ff5df98",
   "metadata": {},
   "outputs": [
    {
     "data": {
      "text/plain": [
       "array(['TGFb-CAF high', 'TGFb-CAF low'], dtype=object)"
      ]
     },
     "execution_count": 161,
     "metadata": {},
     "output_type": "execute_result"
    }
   ],
   "source": [
    "info_col['model_prediction_str'].unique()"
   ]
  },
  {
   "cell_type": "code",
   "execution_count": 162,
   "id": "dff32334-bbcc-4a59-b4d5-8833ed2b0dee",
   "metadata": {},
   "outputs": [
    {
     "data": {
      "text/plain": [
       "array(['TGFb-CAF high', 'TGFb-CAF low'], dtype=object)"
      ]
     },
     "execution_count": 162,
     "metadata": {},
     "output_type": "execute_result"
    }
   ],
   "source": [
    "info_col['model_prediction_str'].unique()"
   ]
  },
  {
   "cell_type": "code",
   "execution_count": 163,
   "id": "9eb966ac-e18b-4839-a4f3-aa68d4415d3b",
   "metadata": {},
   "outputs": [],
   "source": [
    "# indication\n",
    "color_dict_indication = dict(zip(['BRCA', 'BLCA', 'LUAD', 'LUSC', 'Gastric', 'PRAD'], \n",
    "                                 ['#ffbfc3', '#0077C8', '#097969', '#AAFF00', '#800080', '#ADD8E6']))\n",
    "indication_colors = metadata_df['indication'].map(color_dict_indication)\n",
    "\n",
    "# model prediction\n",
    "color_dict_modelpred = dict(zip(['TGFb-CAF high', 'TGFb-CAF low'], ['#4CEAD3', '#793EF8']))\n",
    "model_prediction_colors = info_col['model_prediction_str'].map(color_dict_modelpred)\n",
    "\n",
    "# cell type\n",
    "hif_cell_type = df_qt.columns.map(utils.get_cell)\n",
    "hif_cell_type = hif_cell_type.fillna('NA')\n",
    "cell_types = ['CANCER', 'FIBROBLAST', 'PLASMA', 'LYMPHOCYTE',  \n",
    "              'MACROPHAGE', 'NA', 'HARMONIZED IMMUNE', 'HARMONIZED ALL PREDICTED']\n",
    "cell_types_labels = ['Cancer cell', 'Fibroblast',  'Plasma cell', 'Lymphocyte',\n",
    "                     'Macrophage']\n",
    "cell_types_colors = ['#F93A00', '#FB8741',  '#FFEEAC', '#36B279', '#015f7d', 'white', 'white', 'white'] #'#00AFE7']\n",
    "color_dict_celltype = {cell_type: color for cell_type, color in zip(cell_types, cell_types_colors)}\n",
    "cell_colors = pd.Series(hif_cell_type, index=df_qt.columns).map(color_dict_celltype)\n",
    "\n",
    "# tissue type \n",
    "hif_tissue_type = df_qt.columns.map(utils.get_tissue)\n",
    "tissue_types = ['CANCER', 'CANCER STROMA', 'NECROSIS', 'HARMONIZED TUMOR']\n",
    "tissue_types_labels = ['Cancer', 'Cancer stroma', 'Necrosis']\n",
    "tissue_types_colors = ['#D500FA', '#FBB830', '#000000', 'white']\n",
    "color_dict_tissuetype = {tissue_type: color for tissue_type, color in zip(tissue_types, tissue_types_colors)}\n",
    "tissue_colors = pd.Series(hif_tissue_type, index=df_qt.columns).map(color_dict_tissuetype) \n",
    "\n",
    "# OS \n",
    "color_dict_os = dict(zip(['0-523', '524-1099', '1100-8605', 'Unknown'], ['lightgray', 'grey', 'black', 'white']))\n",
    "os_colors = metadata_df['os_time_quantile'].map(color_dict_os)\n",
    "\n",
    "# tumor stage \n",
    "color_dict_tumor_stage = dict(zip(['Stage ' + stage_number for stage_number in ['I', 'II', 'III', 'IV'] ]+['Other'], ['lightsalmon', 'salmon', 'orangered', 'darkred', 'white']))\n",
    "                                  #cm.get_cmap('Reds', 6)(np.linspace(0, 1, 6))))\n",
    "tumor_stage_colors = metadata_df['ajcc_pathologic_tumor_stage_consolidated'].map(color_dict_tumor_stage)\n",
    "\n",
    "# age\n",
    "color_dict_age = dict(zip(['26-59', '60-68', '69-90', 'Unknown'], ['thistle', 'violet', 'purple', 'white']))\n",
    "age_colors = metadata_df['age_at_initial_pathologic_diagnosis_quantile'].map(color_dict_age)\n",
    "\n",
    "# tp53 \n",
    "#color_dict_tp53 = dict(zip([0, 1], ['yellow', 'green']))\n",
    "#tp53_labels = ['Low', 'High']\n",
    "#tp53_colors = metadata_df['TP53'].map(color_dict_tp53)\n"
   ]
  },
  {
   "cell_type": "markdown",
   "id": "74d4e9fa-304a-410e-bff0-1104a6a852a5",
   "metadata": {},
   "source": [
    "### Area HIFs"
   ]
  },
  {
   "cell_type": "code",
   "execution_count": 164,
   "id": "ce1e6296-2b46-443e-a12c-cb3dea1edf40",
   "metadata": {},
   "outputs": [],
   "source": [
    "areaprop_over_tissue = ['AREA PROP [[CANCER STROMA] OVER [HARMONIZED TISSUE]]_H & E',\n",
    "                        'AREA PROP [[CANCER] OVER [HARMONIZED TISSUE]]_H & E',\n",
    "                        'AREA PROP [[NECROSIS] OVER [HARMONIZED TISSUE]]_H & E']"
   ]
  },
  {
   "cell_type": "code",
   "execution_count": 165,
   "id": "c27f32af-3541-49d3-9e9a-d018455c538a",
   "metadata": {},
   "outputs": [
    {
     "data": {
      "text/plain": [
       "<matplotlib.legend.Legend at 0x7f0286f91f90>"
      ]
     },
     "execution_count": 165,
     "metadata": {},
     "output_type": "execute_result"
    },
    {
     "data": {
      "image/png": "[encoded data removed]",
      "text/plain": [
       "<Figure size 1500x800 with 5 Axes>"
      ]
     },
     "metadata": {},
     "output_type": "display_data"
    }
   ],
   "source": [
    "g = sns.clustermap(df_tme_hifs.loc[:, areaprop_over_tissue].dropna().T, method='average', metric='euclidean', \n",
    "                   z_score=None, xticklabels=False, yticklabels=True, cmap=spacecadet_cmap, row_cluster=False, col_cluster=True,\n",
    "                   col_colors=[indication_colors, model_prediction_colors], figsize=(15, 8)\n",
    "                  )\n",
    "ax = g.ax_heatmap \n",
    "_x0, _y0, _w, _h = g.cbar_pos\n",
    "g.ax_cbar.set_position([_x0+0.02, _y0, g.ax_row_dendrogram.get_position().width * 0.3, _h * 0.7])\n",
    "ax.set_xlabel(\"Samples\")\n",
    "ax.set_yticklabels(['Proportion of stroma\\nin all tissue', 'Proportion cancer\\nin all tissue', 'Proportion of necrosis\\nin all tissue'])\n",
    "handles = [Patch(facecolor=color_dict_indication[name]) for name in color_dict_indication]\n",
    "legend_one = ax.legend(handles, color_dict_indication, title='Indication',\n",
    "           bbox_to_anchor=(1.3, 1.0), loc='upper left')\n",
    "ax.add_artist(legend_one)\n",
    "handles2 = [Patch(facecolor=color_dict_modelpred[name]) for name in color_dict_modelpred]\n",
    "ax.legend(handles2, color_dict_modelpred, title='Model prediction',\n",
    "           bbox_to_anchor=(1.3, 0.6), loc='upper left')\n",
    "#plt.savefig(\"untracked/fig_6d_heatmap_tissue_proportion.svg\")"
   ]
  },
  {
   "cell_type": "markdown",
   "id": "76b99d76-839b-49d8-8aa9-3fee6fcdfd40",
   "metadata": {},
   "source": [
    "### Cell prop HIFs"
   ]
  },
  {
   "cell_type": "code",
   "execution_count": 166,
   "id": "63ca394d-c125-4992-925d-481640e09c35",
   "metadata": {},
   "outputs": [],
   "source": [
    "countprop_in_tumor = df_qt.filter(regex=r'(?<!\\[HARMONIZED IMMUNE CELLS\\]) OVER \\[HARMONIZED ALL PREDICTED CELLS\\]\\] IN \\[HARMONIZED TUMOR\\]_H & E').columns"
   ]
  },
  {
   "cell_type": "code",
   "execution_count": 167,
   "id": "c788cebd-9537-4db9-a6eb-b76cecd4f86f",
   "metadata": {},
   "outputs": [
    {
     "data": {
      "text/plain": [
       "Index(['COUNT PROP [[CANCER CELLS] OVER [HARMONIZED ALL PREDICTED CELLS]] IN [HARMONIZED TUMOR]_H & E',\n",
       "       'COUNT PROP [[FIBROBLAST CELLS] OVER [HARMONIZED ALL PREDICTED CELLS]] IN [HARMONIZED TUMOR]_H & E',\n",
       "       'COUNT PROP [[LYMPHOCYTE CELLS] OVER [HARMONIZED ALL PREDICTED CELLS]] IN [HARMONIZED TUMOR]_H & E',\n",
       "       'COUNT PROP [[MACROPHAGE CELLS] OVER [HARMONIZED ALL PREDICTED CELLS]] IN [HARMONIZED TUMOR]_H & E',\n",
       "       'COUNT PROP [[PLASMA CELLS] OVER [HARMONIZED ALL PREDICTED CELLS]] IN [HARMONIZED TUMOR]_H & E'],\n",
       "      dtype='object')"
      ]
     },
     "execution_count": 167,
     "metadata": {},
     "output_type": "execute_result"
    }
   ],
   "source": [
    "countprop_in_tumor"
   ]
  },
  {
   "cell_type": "code",
   "execution_count": 168,
   "id": "b9149016-4db4-4e9a-9af5-ee31fd0b3037",
   "metadata": {},
   "outputs": [],
   "source": [
    "countprop_in_cancer = list(df_tme_hifs.filter(regex='(?<!\\[HARMONIZED IMMUNE CELLS\\]) OVER \\[HARMONIZED ALL PREDICTED CELLS\\]\\] IN \\[CANCER\\]_H & E').columns)"
   ]
  },
  {
   "cell_type": "code",
   "execution_count": 169,
   "id": "719a825f-7ec2-4308-86b4-6e212b14d90b",
   "metadata": {},
   "outputs": [
    {
     "data": {
      "text/plain": [
       "['COUNT PROP [[CANCER CELLS] OVER [HARMONIZED ALL PREDICTED CELLS]] IN [CANCER]_H & E',\n",
       " 'COUNT PROP [[FIBROBLAST CELLS] OVER [HARMONIZED ALL PREDICTED CELLS]] IN [CANCER]_H & E',\n",
       " 'COUNT PROP [[LYMPHOCYTE CELLS] OVER [HARMONIZED ALL PREDICTED CELLS]] IN [CANCER]_H & E',\n",
       " 'COUNT PROP [[MACROPHAGE CELLS] OVER [HARMONIZED ALL PREDICTED CELLS]] IN [CANCER]_H & E',\n",
       " 'COUNT PROP [[PLASMA CELLS] OVER [HARMONIZED ALL PREDICTED CELLS]] IN [CANCER]_H & E']"
      ]
     },
     "execution_count": 169,
     "metadata": {},
     "output_type": "execute_result"
    }
   ],
   "source": [
    "countprop_in_cancer"
   ]
  },
  {
   "cell_type": "code",
   "execution_count": 170,
   "id": "f8a78578-43f7-4440-8430-ef5f083ab423",
   "metadata": {},
   "outputs": [],
   "source": [
    "countprop_in_stroma = list(df_tme_hifs.filter(regex='(?<!\\[HARMONIZED IMMUNE CELLS\\]) OVER \\[HARMONIZED ALL PREDICTED CELLS\\]\\] IN \\[CANCER STROMA\\]_H & E').columns)"
   ]
  },
  {
   "cell_type": "code",
   "execution_count": 171,
   "id": "e56da0df-2196-4985-8968-20bb087e642a",
   "metadata": {},
   "outputs": [
    {
     "data": {
      "text/plain": [
       "['COUNT PROP [[CANCER CELLS] OVER [HARMONIZED ALL PREDICTED CELLS]] IN [CANCER STROMA]_H & E',\n",
       " 'COUNT PROP [[FIBROBLAST CELLS] OVER [HARMONIZED ALL PREDICTED CELLS]] IN [CANCER STROMA]_H & E',\n",
       " 'COUNT PROP [[LYMPHOCYTE CELLS] OVER [HARMONIZED ALL PREDICTED CELLS]] IN [CANCER STROMA]_H & E',\n",
       " 'COUNT PROP [[MACROPHAGE CELLS] OVER [HARMONIZED ALL PREDICTED CELLS]] IN [CANCER STROMA]_H & E',\n",
       " 'COUNT PROP [[PLASMA CELLS] OVER [HARMONIZED ALL PREDICTED CELLS]] IN [CANCER STROMA]_H & E']"
      ]
     },
     "execution_count": 171,
     "metadata": {},
     "output_type": "execute_result"
    }
   ],
   "source": [
    "countprop_in_stroma"
   ]
  },
  {
   "cell_type": "code",
   "execution_count": 172,
   "id": "403bb73a-d852-44fe-9dd5-f31fca3a71ce",
   "metadata": {},
   "outputs": [
    {
     "data": {
      "text/plain": [
       "<matplotlib.legend.Legend at 0x7f0294e88a90>"
      ]
     },
     "execution_count": 172,
     "metadata": {},
     "output_type": "execute_result"
    },
    {
     "data": {
      "image/png": "[encoded data removed]",
      "text/plain": [
       "<Figure size 2000x800 with 5 Axes>"
      ]
     },
     "metadata": {},
     "output_type": "display_data"
    }
   ],
   "source": [
    "g = sns.clustermap(df_tme_hifs.loc[:, countprop_in_tumor].dropna().T, method='average', metric='euclidean', \n",
    "                   z_score=None, xticklabels=False, yticklabels=True, cmap=spacecadet_cmap, dendrogram_ratio=(.1, .1), col_cluster=True, row_cluster=False,\n",
    "                   col_colors=[indication_colors, model_prediction_colors], figsize=(20, 8))\n",
    "_x0, _y0, _w, _h = g.cbar_pos\n",
    "g.ax_cbar.set_position([_x0-0.01, _y0, g.ax_row_dendrogram.get_position().width * 0.3, _h * 0.8])\n",
    "ax = g.ax_heatmap \n",
    "ax.set_xlabel(\"Samples\")\n",
    "ax.set_yticklabels(['Proportion of\\ncancer cells\\nin tumor', 'Proportion of\\nfibroblasts\\nin tumor', 'Proportion of\\nlymphocytes\\nin tumor', \n",
    "                    'Proportion of\\nmacrophages\\nin tumor', 'Proportion of\\nplasma cells\\nin tumor'])\n",
    "handles1 = [Patch(facecolor=color_dict_indication[name]) for name in color_dict_indication]\n",
    "legend1 = ax.legend(handles1, color_dict_indication, title='Indication',\n",
    "           bbox_to_anchor=(1.17, 1.0), loc='upper left')\n",
    "ax.add_artist(legend1)\n",
    "handles2 = [Patch(facecolor=color_dict_modelpred[name]) for name in color_dict_modelpred]\n",
    "legend2 = ax.legend(handles2, color_dict_modelpred, title='Model prediction',\n",
    "           bbox_to_anchor=(1.17, 0.6), loc='upper left')\n",
    "ax.add_artist(legend2)\n",
    "#plt.savefig(\"untracked/fig_6e_heatmap_cell_props_in_tumor.svg\")"
   ]
  },
  {
   "cell_type": "code",
   "execution_count": 173,
   "id": "49e98865-2733-4ae4-bde1-5e39c60a1e00",
   "metadata": {},
   "outputs": [
    {
     "data": {
      "text/plain": [
       "<matplotlib.legend.Legend at 0x7f0269dde3b0>"
      ]
     },
     "execution_count": 173,
     "metadata": {},
     "output_type": "execute_result"
    },
    {
     "data": {
      "image/png": "[encoded data removed]",
      "text/plain": [
       "<Figure size 1700x800 with 5 Axes>"
      ]
     },
     "metadata": {},
     "output_type": "display_data"
    }
   ],
   "source": [
    "g = sns.clustermap(df_tme_hifs.loc[:, countprop_in_stroma].dropna().T, method='average', metric='euclidean', \n",
    "                   z_score=None, figsize=(17, 8), yticklabels=True, xticklabels=False,\n",
    "                   cmap=spacecadet_cmap, row_cluster=False, col_cluster=True,\n",
    "                   col_colors=[indication_colors, model_prediction_colors])\n",
    "_x0, _y0, _w, _h = g.cbar_pos\n",
    "g.ax_cbar.set_position([_x0+0.01, _y0 - 0.05, g.ax_row_dendrogram.get_position().width * 0.24, _h * 0.7])\n",
    "\n",
    "ax = g.ax_heatmap \n",
    "ax.set_xlabel(\"Samples\")\n",
    "ax.set_yticklabels(['Proportion of\\ncancer cells\\nin stroma', 'Proportion of\\nfibroblasts\\nin stroma', 'Proportion of\\nlymphocytes\\nin stroma', \n",
    "                    'Proportion of\\nmacrophages\\nin stroma', 'Proportion of\\nplasma cells\\nin stroma'])\n",
    "handles1 = [Patch(facecolor=color_dict_indication[name]) for name in color_dict_indication]\n",
    "legend1 = ax.legend(handles1, color_dict_indication, title='Indication',\n",
    "           bbox_to_anchor=(1.25, 1.0), loc='upper left')\n",
    "ax.add_artist(legend1)\n",
    "handles2 = [Patch(facecolor=color_dict_modelpred[name]) for name in color_dict_modelpred]\n",
    "legend2 = ax.legend(handles2, color_dict_modelpred, title='Model prediction',\n",
    "           bbox_to_anchor=(1.25, 0.6), loc='upper left')\n",
    "ax.add_artist(legend2)\n",
    "#plt.savefig(\"untracked/fig_6f_heatmap_cell_props_in_stroma.svg\")"
   ]
  },
  {
   "cell_type": "markdown",
   "id": "a3273259-778a-44dc-8b5b-f50fb9d1148b",
   "metadata": {},
   "source": [
    "### Area HIFs + cell prop HIFs \n"
   ]
  },
  {
   "cell_type": "code",
   "execution_count": 174,
   "id": "8aa64291-dfcd-47cf-a747-510b5c514d18",
   "metadata": {},
   "outputs": [],
   "source": [
    "all_prop_feats = areaprop_over_tissue + countprop_in_cancer + countprop_in_stroma\n",
    "all_prop_feats_labels = ['Stroma proportion in all tissue', 'Cancer proportion in all tissue', 'Necrosis proportion in all tissue', \n",
    "                        'Cancer cell proportion in cancer', 'Fibroblast proportion in cancer', 'Lymphocyte proportion in cancer', \n",
    "                    'Macrophage proportion in cancer', 'Plasma cell proportion in cancer',\n",
    "                       'Cancer cell proportion in stroma', 'Fibroblast proportion in stroma', 'Lymphocyte proportion in stroma', \n",
    "                    'Macrophage proportion in stroma', 'Plasma cell proportion in stroma']"
   ]
  },
  {
   "cell_type": "code",
   "execution_count": 175,
   "id": "e6f8e504-dfad-4ae0-8b62-604828dd680f",
   "metadata": {},
   "outputs": [],
   "source": [
    "temp = df_tme_hifs.loc[:, all_prop_feats]\n",
    "temp.columns = all_prop_feats_labels"
   ]
  },
  {
   "cell_type": "code",
   "execution_count": 176,
   "id": "32aa68a8-5f1f-41db-9d42-f21ea48498ba",
   "metadata": {},
   "outputs": [],
   "source": [
    "# cell type\n",
    "hif_cell_type = list(map(utils.get_cell, all_prop_feats))\n",
    "hif_cell_type = pd.Series(hif_cell_type).fillna('NA').tolist()\n",
    "cell_colors = pd.Series(hif_cell_type, index=all_prop_feats).map(color_dict_celltype)\n",
    "\n",
    "# tissue type \n",
    "hif_tissue_type = list(map(utils.get_tissue, all_prop_feats))\n",
    "hif_tissue_type = pd.Series(hif_tissue_type).fillna('NA').tolist()\n",
    "tissue_colors = pd.Series(hif_tissue_type, index=all_prop_feats).map(color_dict_tissuetype) "
   ]
  },
  {
   "cell_type": "code",
   "execution_count": 177,
   "id": "31f74b08-08cf-449c-8fd7-5429c42705b1",
   "metadata": {},
   "outputs": [
    {
     "data": {
      "text/plain": [
       "{'CANCER': '#D500FA',\n",
       " 'CANCER STROMA': '#FBB830',\n",
       " 'NECROSIS': '#000000',\n",
       " 'HARMONIZED TUMOR': 'white'}"
      ]
     },
     "execution_count": 177,
     "metadata": {},
     "output_type": "execute_result"
    }
   ],
   "source": [
    "color_dict_tissuetype"
   ]
  },
  {
   "cell_type": "code",
   "execution_count": 178,
   "id": "b6c96d49-2ca2-40ed-b2d5-c6c950172a7e",
   "metadata": {},
   "outputs": [
    {
     "data": {
      "text/plain": [
       "[<matplotlib.patches.Patch at 0x7f0269963430>]"
      ]
     },
     "execution_count": 178,
     "metadata": {},
     "output_type": "execute_result"
    }
   ],
   "source": [
    "[Patch(facecolor=color_dict_tissuetype[name]) for name in color_dict_tissuetype if color_dict_tissuetype[name] == 'white' ]"
   ]
  },
  {
   "cell_type": "markdown",
   "id": "78ced7b8-2cd8-4569-ac55-25e06fd1c610",
   "metadata": {
    "tags": []
   },
   "source": [
    "## Stacked barplot\n",
    "\n",
    "### Area prop"
   ]
  },
  {
   "cell_type": "code",
   "execution_count": 179,
   "id": "fbb268b9-5c99-4e6d-9965-cb8dba77aec8",
   "metadata": {},
   "outputs": [
    {
     "data": {
      "text/plain": [
       "array(['TGFb-CAF high', 'TGFb-CAF low'], dtype=object)"
      ]
     },
     "execution_count": 179,
     "metadata": {},
     "output_type": "execute_result"
    }
   ],
   "source": [
    "info_col['Class_str'].unique()"
   ]
  },
  {
   "cell_type": "code",
   "execution_count": 180,
   "id": "b0edab03-695e-4f31-83be-401ff427379f",
   "metadata": {},
   "outputs": [],
   "source": [
    "# indication\n",
    "color_dict_indication = dict(zip(metadata_df['indication'].unique(), ['#ffbfc3', '#0077C8', '#097969', '#AAFF00', '#800080', '#ADD8E6']))\n",
    "indication_colors = metadata_df['indication'].map(color_dict_indication)\n",
    "\n",
    "# model prediction\n",
    "color_dict_class = dict(zip(info_col['Class_str'].unique(), ['#F4C2C2', '#A9A9A9']))\n",
    "class_colors = info_col['Class_str'].map(color_dict_class)"
   ]
  },
  {
   "cell_type": "code",
   "execution_count": 181,
   "id": "fb2b50a2-ae11-4c4c-87d9-2993cf3b61d5",
   "metadata": {},
   "outputs": [],
   "source": [
    "def plot_stacked_barplots(hifs: pd.DataFrame, \n",
    "                          group_labels: pd.Series,  \n",
    "                          feats: List[str], \n",
    "                          colors: List[str], \n",
    "                          title: str = '', \n",
    "                          width: float=0.25, \n",
    "                          xticks = False, \n",
    "                          figsize = (20, 5), \n",
    "                          fname: str = None, \n",
    "                          legend: bool = True,\n",
    "                          legend_labels: List[str] = None,\n",
    "                          ymax: float = 100,\n",
    "                          xlab: str = '', \n",
    "                          ylab: str = ''):\n",
    "    \"\"\"Plots stacked barplots plus indication and ground truth color bars.\"\"\"\n",
    "    \n",
    "    (fig, axes) = plt.subplots(3, 1, figsize=figsize, gridspec_kw={'height_ratios': [5, 1, 1]})\n",
    "    tt = pd.DataFrame(columns = feats + ['indication'])\n",
    "    for group in np.unique(group_labels):\n",
    "        id_slides = hifs.index[group_labels == group]\n",
    "        tt = pd.concat([tt, hifs.loc[id_slides, tt.columns].sort_values(by=feats, ascending=False)])\n",
    "    ind = np.arange(tt.shape[0]) + 1 #/ 2\n",
    "    bottom = np.zeros(len(ind))\n",
    "\n",
    "    for i, col in enumerate(feats):\n",
    "        axes[0].bar(ind, tt.loc[:, col], bottom=bottom, width=1.0, color=colors[i], align='center')\n",
    "        bottom = bottom + tt.loc[:, col]\n",
    "    if legend_labels is None:\n",
    "        labels = [re.search(r'^.*\\[\\[(?P<stroma>.*?)\\]', feat, re.IGNORECASE).group('stroma') for feat in feats]\n",
    "    else: \n",
    "        labels = legend_labels\n",
    "    if legend:\n",
    "        axes[0].legend(labels=labels, loc='upper left',  frameon=False, bbox_to_anchor=(1.01, 1.0),\n",
    "                 fontsize=15, ncol=1)\n",
    "    axes[0].set_ylabel(ylab, fontsize=15)\n",
    "    axes[0].set_xlabel(xlab, fontsize=15)\n",
    "    axes[0].set_ylim(0, ymax)\n",
    "    axes[0].set_xlim(0.8, ind[-1] + 0.3)\n",
    "    axes[0].tick_params(axis='both', which='major', labelsize=15)\n",
    "    axes[0].axes.get_xaxis().set_ticks([])\n",
    "    \n",
    "    axes[1].bar(ind, [0.2]*len(ind), width=1.0, color=class_colors.loc[tt.index], align='center')\n",
    "    axes[1].set_xlim(0.8, ind[-1] + 0.3)\n",
    "    axes[1].set_ylim(0, 0.2)\n",
    "    axes[1].set_ylabel('Ground truth', fontsize=15, rotation=0, ha='right')\n",
    "    axes[1].tick_params(axis='both', which='major', labelsize=15)\n",
    "    axes[1].axes.get_yaxis().set_ticks([])\n",
    "    axes[1].axes.get_xaxis().set_ticks([])\n",
    "    handles1 = [Patch(facecolor=color, label=label) for label, color in color_dict_class.items()]\n",
    "    legend1 = axes[1].legend(handles=handles1, loc='upper left',  frameon=False, bbox_to_anchor=(1.01, 1.01),\n",
    "             fontsize=15, ncol=1)\n",
    "    axes[1].add_artist(legend1)\n",
    "    \n",
    "    axes[2].bar(ind, [0.2]*len(ind), width=1.0, color=indication_colors.loc[tt.index], align='center')\n",
    "    axes[2].set_xlim(0.8, ind[-1] + 0.3)\n",
    "    axes[2].set_ylim(0, 0.2)\n",
    "    axes[2].set_ylabel('Indication', fontsize=15, rotation=0, ha='right')\n",
    "    axes[2].set_xlabel('No. slides', fontsize=15)\n",
    "    axes[2].tick_params(axis='both', which='major', labelsize=15)\n",
    "    axes[2].axes.get_yaxis().set_ticks([])\n",
    "    handles2 = [Patch(facecolor=color, label=label) for label, color in color_dict_indication.items()]\n",
    "    legend2 = axes[2].legend(handles=handles2, loc='upper left',  frameon=False, bbox_to_anchor=(1.01, 1.01),\n",
    "             fontsize=15, ncol=int(len(color_dict_indication)/2))\n",
    "    axes[2].add_artist(legend2)\n",
    "\n",
    "    \n",
    "    if fname != None:\n",
    "        plt.savefig(fname, dpi=1200, facecolor='white', bbox_inches='tight')"
   ]
  },
  {
   "cell_type": "code",
   "execution_count": 182,
   "id": "b8413d89-7166-4d7a-91b9-c20a3c7f8a53",
   "metadata": {},
   "outputs": [],
   "source": [
    "tissue_types = ['CANCER', 'CANCER STROMA', 'NECROSIS']\n",
    "tissue_types_labels = ['Cancer', 'Cancer stroma', 'Necrosis']\n",
    "areaprop_feats = [f'AREA PROP [[{tissue}] OVER [HARMONIZED TISSUE]]_H & E' for tissue in tissue_types] \n",
    "tissue_colors = ('#D500FA', '#FBB830', '#000000')\n"
   ]
  },
  {
   "cell_type": "markdown",
   "id": "9412a11b-8c15-4737-8f36-a6a4bbec101b",
   "metadata": {},
   "source": [
    "All indications; test set only "
   ]
  },
  {
   "cell_type": "code",
   "execution_count": 183,
   "id": "54cfab42-33c6-4f66-a032-97d1ed04a9c6",
   "metadata": {},
   "outputs": [
    {
     "data": {
      "image/png": "[encoded data removed]",
      "text/plain": [
       "<Figure size 3000x700 with 3 Axes>"
      ]
     },
     "metadata": {},
     "output_type": "display_data"
    }
   ],
   "source": [
    "plot_stacked_barplots(df_tme_hifs.loc[df_tme_hifs.test_set == True, :], \n",
    "                     info_col['model_prediction_str'][df_tme_hifs.test_set == True], \n",
    "                     areaprop_feats, \n",
    "                     figsize=(30,7),\n",
    "                     colors=tissue_colors,\n",
    "                     ylab='Area proportion in\\nharmonized tissue',\n",
    "                     legend_labels=tissue_types_labels,\n",
    "                     ymax=1,)      "
   ]
  },
  {
   "cell_type": "markdown",
   "id": "f91963d2-b6d6-4ea3-adee-5687c70705a6",
   "metadata": {},
   "source": [
    "### Cell count prop in tumor"
   ]
  },
  {
   "cell_type": "code",
   "execution_count": 184,
   "id": "7fb82c88-72fe-487f-86fe-b4f1f0ed597b",
   "metadata": {},
   "outputs": [
    {
     "data": {
      "text/plain": [
       "Index(['COUNT PROP [[CANCER CELLS] OVER [HARMONIZED ALL PREDICTED CELLS]] IN [HARMONIZED TUMOR]_H & E',\n",
       "       'COUNT PROP [[FIBROBLAST CELLS] OVER [HARMONIZED ALL PREDICTED CELLS]] IN [HARMONIZED TUMOR]_H & E',\n",
       "       'COUNT PROP [[LYMPHOCYTE CELLS] OVER [HARMONIZED ALL PREDICTED CELLS]] IN [HARMONIZED TUMOR]_H & E',\n",
       "       'COUNT PROP [[MACROPHAGE CELLS] OVER [HARMONIZED ALL PREDICTED CELLS]] IN [HARMONIZED TUMOR]_H & E',\n",
       "       'COUNT PROP [[PLASMA CELLS] OVER [HARMONIZED ALL PREDICTED CELLS]] IN [HARMONIZED TUMOR]_H & E'],\n",
       "      dtype='object')"
      ]
     },
     "execution_count": 184,
     "metadata": {},
     "output_type": "execute_result"
    }
   ],
   "source": [
    "cell_types = ['CANCER CELL', 'FIBROBLAST', 'PLASMA CELL', 'LYMPHOCYTE',  \n",
    "              'MACROPHAGE']\n",
    "cell_types_labels = ['Cancer cell', 'Fibroblast',  'Plasma cell', 'Lymphocyte',\n",
    "                     'Macrophage']\n",
    "cell_types_colors = ['#F93A00', '#FB8741',  '#FFEEAC', '#36B279', '#015f7d'] #'#00AFE7']\n",
    "countprop_in_tumor"
   ]
  },
  {
   "cell_type": "markdown",
   "id": "28fe185a-2c2b-4674-9e1c-0e67e54b3549",
   "metadata": {},
   "source": [
    "All indications; test set only "
   ]
  },
  {
   "cell_type": "code",
   "execution_count": 185,
   "id": "ec6c21d1-ff47-4657-b88c-5c3d768ca2f1",
   "metadata": {},
   "outputs": [
    {
     "data": {
      "image/png": "[encoded data removed]",
      "text/plain": [
       "<Figure size 3000x700 with 3 Axes>"
      ]
     },
     "metadata": {},
     "output_type": "display_data"
    }
   ],
   "source": [
    "plot_stacked_barplots(df_tme_hifs.loc[df_tme_hifs.test_set == True, :], \n",
    "                     info_col['model_prediction_str'][df_tme_hifs.test_set == True], \n",
    "                     list(countprop_in_tumor),\n",
    "                     figsize=(30,7),\n",
    "                     colors=cell_types_colors,\n",
    "                     ylab='Count proportion of cells\\nin harmonized tumor',\n",
    "                     legend_labels=cell_types_labels,\n",
    "                     ymax=1,)      "
   ]
  },
  {
   "cell_type": "markdown",
   "id": "18b08781-1dbf-4bc1-9aed-8b271ca597f5",
   "metadata": {},
   "source": [
    "### Cell count prop in stroma"
   ]
  },
  {
   "cell_type": "markdown",
   "id": "0f72a6b9-22fc-4a1e-8442-d159f8c3ad05",
   "metadata": {},
   "source": [
    "All indications; test set only "
   ]
  },
  {
   "cell_type": "code",
   "execution_count": 186,
   "id": "8708882a-e8ca-4d3e-ae08-7793debcee55",
   "metadata": {},
   "outputs": [
    {
     "data": {
      "image/png": "[encoded data removed]",
      "text/plain": [
       "<Figure size 3000x700 with 3 Axes>"
      ]
     },
     "metadata": {},
     "output_type": "display_data"
    }
   ],
   "source": [
    "plot_stacked_barplots(df_tme_hifs.loc[df_tme_hifs.test_set == True, :], \n",
    "                     info_col['model_prediction_str'][df_tme_hifs.test_set == True], \n",
    "                     list(countprop_in_stroma),\n",
    "                     figsize=(30,7),\n",
    "                     colors=cell_types_colors,\n",
    "                     ylab='Count proportion of cells\\nin stroma',\n",
    "                     legend_labels=cell_types_labels,\n",
    "                     ymax=1,)      "
   ]
  },
  {
   "cell_type": "code",
   "execution_count": null,
   "id": "d66e2f75-7905-447b-bab2-7ca88e8a5a04",
   "metadata": {},
   "outputs": [],
   "source": []
  }
 ],
 "metadata": {
  "kernelspec": {
   "display_name": "Python [conda env:root] *",
   "language": "python",
   "name": "conda-root-py"
  },
  "language_info": {
   "codemirror_mode": {
    "name": "ipython",
    "version": 3
   },
   "file_extension": ".py",
   "mimetype": "text/x-python",
   "name": "python",
   "nbconvert_exporter": "python",
   "pygments_lexer": "ipython3",
   "version": "3.10.14"
  }
 },
 "nbformat": 4,
 "nbformat_minor": 5
}
